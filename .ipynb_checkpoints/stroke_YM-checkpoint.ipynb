{
 "cells": [
  {
   "cell_type": "markdown",
   "metadata": {},
   "source": [
    "# Imports"
   ]
  },
  {
   "cell_type": "code",
   "execution_count": 273,
   "metadata": {},
   "outputs": [
    {
     "ename": "ModuleNotFoundError",
     "evalue": "No module named 'lightgbm'",
     "output_type": "error",
     "traceback": [
      "\u001b[1;31m---------------------------------------------------------------------------\u001b[0m",
      "\u001b[1;31mModuleNotFoundError\u001b[0m                       Traceback (most recent call last)",
      "\u001b[1;32m<ipython-input-273-964629502dd4>\u001b[0m in \u001b[0;36m<module>\u001b[1;34m\u001b[0m\n\u001b[0;32m      3\u001b[0m \u001b[1;32mfrom\u001b[0m \u001b[0msklearn\u001b[0m\u001b[1;33m.\u001b[0m\u001b[0mmodel_selection\u001b[0m \u001b[1;32mimport\u001b[0m \u001b[0mtrain_test_split\u001b[0m\u001b[1;33m\u001b[0m\u001b[1;33m\u001b[0m\u001b[0m\n\u001b[0;32m      4\u001b[0m \u001b[1;32mimport\u001b[0m \u001b[0mmatplotlib\u001b[0m\u001b[1;33m.\u001b[0m\u001b[0mpyplot\u001b[0m \u001b[1;32mas\u001b[0m \u001b[0mplt\u001b[0m\u001b[1;33m\u001b[0m\u001b[1;33m\u001b[0m\u001b[0m\n\u001b[1;32m----> 5\u001b[1;33m \u001b[1;32mimport\u001b[0m \u001b[0mlightgbm\u001b[0m \u001b[1;32mas\u001b[0m \u001b[0mlgbm\u001b[0m\u001b[1;33m\u001b[0m\u001b[1;33m\u001b[0m\u001b[0m\n\u001b[0m",
      "\u001b[1;31mModuleNotFoundError\u001b[0m: No module named 'lightgbm'"
     ]
    }
   ],
   "source": [
    "import pandas as pd\n",
    "import numpy as np\n",
    "from sklearn.model_selection import train_test_split\n",
    "import matplotlib.pyplot as plt\n",
    "import lightgbm as lgbm"
   ]
  },
  {
   "cell_type": "markdown",
   "metadata": {},
   "source": [
    "# Parameters"
   ]
  },
  {
   "cell_type": "code",
   "execution_count": 240,
   "metadata": {},
   "outputs": [],
   "source": [
    "PRM_PCT_TST = 0.2 # Percantage of samples for the test set\n",
    "PRM_PCT_VLD_FROM_TRN = 0.2 # Percantage of samples from the complete training set for the validation set\n",
    "PRM_RND = 23 # Random seed"
   ]
  },
  {
   "cell_type": "markdown",
   "metadata": {},
   "source": [
    "## Read the data"
   ]
  },
  {
   "cell_type": "code",
   "execution_count": 241,
   "metadata": {},
   "outputs": [],
   "source": [
    "df = pd.read_csv('stroke_data.csv')"
   ]
  },
  {
   "cell_type": "markdown",
   "metadata": {},
   "source": [
    "## Dataset outline"
   ]
  },
  {
   "cell_type": "markdown",
   "metadata": {},
   "source": [
    "### Observe a few rows"
   ]
  },
  {
   "cell_type": "code",
   "execution_count": 242,
   "metadata": {},
   "outputs": [
    {
     "data": {
      "text/html": [
       "<div>\n",
       "<style scoped>\n",
       "    .dataframe tbody tr th:only-of-type {\n",
       "        vertical-align: middle;\n",
       "    }\n",
       "\n",
       "    .dataframe tbody tr th {\n",
       "        vertical-align: top;\n",
       "    }\n",
       "\n",
       "    .dataframe thead th {\n",
       "        text-align: right;\n",
       "    }\n",
       "</style>\n",
       "<table border=\"1\" class=\"dataframe\">\n",
       "  <thead>\n",
       "    <tr style=\"text-align: right;\">\n",
       "      <th></th>\n",
       "      <th>id</th>\n",
       "      <th>gender</th>\n",
       "      <th>age</th>\n",
       "      <th>hypertension</th>\n",
       "      <th>heart_disease</th>\n",
       "      <th>ever_married</th>\n",
       "      <th>work_type</th>\n",
       "      <th>Residence_type</th>\n",
       "      <th>avg_glucose_level</th>\n",
       "      <th>bmi</th>\n",
       "      <th>smoking_status</th>\n",
       "      <th>stroke</th>\n",
       "    </tr>\n",
       "  </thead>\n",
       "  <tbody>\n",
       "    <tr>\n",
       "      <td>0</td>\n",
       "      <td>1</td>\n",
       "      <td>Female</td>\n",
       "      <td>80.0</td>\n",
       "      <td>0</td>\n",
       "      <td>1</td>\n",
       "      <td>Yes</td>\n",
       "      <td>Self-employed</td>\n",
       "      <td>Urban</td>\n",
       "      <td>67.45</td>\n",
       "      <td>25.6</td>\n",
       "      <td>never smoked</td>\n",
       "      <td>0</td>\n",
       "    </tr>\n",
       "    <tr>\n",
       "      <td>1</td>\n",
       "      <td>4</td>\n",
       "      <td>Female</td>\n",
       "      <td>37.0</td>\n",
       "      <td>0</td>\n",
       "      <td>0</td>\n",
       "      <td>Yes</td>\n",
       "      <td>Private</td>\n",
       "      <td>Rural</td>\n",
       "      <td>82.15</td>\n",
       "      <td>24.3</td>\n",
       "      <td>smokes</td>\n",
       "      <td>0</td>\n",
       "    </tr>\n",
       "    <tr>\n",
       "      <td>2</td>\n",
       "      <td>6</td>\n",
       "      <td>Female</td>\n",
       "      <td>21.0</td>\n",
       "      <td>0</td>\n",
       "      <td>0</td>\n",
       "      <td>No</td>\n",
       "      <td>Private</td>\n",
       "      <td>Urban</td>\n",
       "      <td>75.73</td>\n",
       "      <td>NaN</td>\n",
       "      <td>never smoked</td>\n",
       "      <td>0</td>\n",
       "    </tr>\n",
       "    <tr>\n",
       "      <td>3</td>\n",
       "      <td>7</td>\n",
       "      <td>Female</td>\n",
       "      <td>44.0</td>\n",
       "      <td>0</td>\n",
       "      <td>0</td>\n",
       "      <td>Yes</td>\n",
       "      <td>Private</td>\n",
       "      <td>Urban</td>\n",
       "      <td>222.75</td>\n",
       "      <td>19.6</td>\n",
       "      <td>never smoked</td>\n",
       "      <td>0</td>\n",
       "    </tr>\n",
       "    <tr>\n",
       "      <td>4</td>\n",
       "      <td>8</td>\n",
       "      <td>Female</td>\n",
       "      <td>79.0</td>\n",
       "      <td>0</td>\n",
       "      <td>0</td>\n",
       "      <td>Yes</td>\n",
       "      <td>Private</td>\n",
       "      <td>Urban</td>\n",
       "      <td>99.23</td>\n",
       "      <td>25.1</td>\n",
       "      <td>NaN</td>\n",
       "      <td>0</td>\n",
       "    </tr>\n",
       "  </tbody>\n",
       "</table>\n",
       "</div>"
      ],
      "text/plain": [
       "   id  gender   age  hypertension  heart_disease ever_married      work_type  \\\n",
       "0   1  Female  80.0             0              1          Yes  Self-employed   \n",
       "1   4  Female  37.0             0              0          Yes        Private   \n",
       "2   6  Female  21.0             0              0           No        Private   \n",
       "3   7  Female  44.0             0              0          Yes        Private   \n",
       "4   8  Female  79.0             0              0          Yes        Private   \n",
       "\n",
       "  Residence_type  avg_glucose_level   bmi smoking_status  stroke  \n",
       "0          Urban              67.45  25.6   never smoked       0  \n",
       "1          Rural              82.15  24.3         smokes       0  \n",
       "2          Urban              75.73   NaN   never smoked       0  \n",
       "3          Urban             222.75  19.6   never smoked       0  \n",
       "4          Urban              99.23  25.1            NaN       0  "
      ]
     },
     "execution_count": 242,
     "metadata": {},
     "output_type": "execute_result"
    }
   ],
   "source": [
    "df.head()"
   ]
  },
  {
   "cell_type": "markdown",
   "metadata": {},
   "source": [
    "### Get the shape of the dataset"
   ]
  },
  {
   "cell_type": "code",
   "execution_count": 243,
   "metadata": {},
   "outputs": [
    {
     "data": {
      "text/plain": [
       "(43400, 12)"
      ]
     },
     "execution_count": 243,
     "metadata": {},
     "output_type": "execute_result"
    }
   ],
   "source": [
    "df.shape"
   ]
  },
  {
   "cell_type": "markdown",
   "metadata": {},
   "source": [
    "### Make sure that each ID shows only once"
   ]
  },
  {
   "cell_type": "code",
   "execution_count": 244,
   "metadata": {},
   "outputs": [
    {
     "data": {
      "text/plain": [
       "43400"
      ]
     },
     "execution_count": 244,
     "metadata": {},
     "output_type": "execute_result"
    }
   ],
   "source": [
    "len(df['id'].unique())"
   ]
  },
  {
   "cell_type": "markdown",
   "metadata": {},
   "source": [
    "## Partition the data"
   ]
  },
  {
   "cell_type": "markdown",
   "metadata": {},
   "source": [
    "Training / Test sets"
   ]
  },
  {
   "cell_type": "code",
   "execution_count": 245,
   "metadata": {},
   "outputs": [],
   "source": [
    "X_train, X_test, y_train, y_test = train_test_split(\n",
    "    df.drop('stroke', axis = 1) # X\n",
    "    ,df['stroke'] # y\n",
    "    ,test_size = PRM_PCT_TST\n",
    "    ,random_state = PRM_RND\n",
    "    ,shuffle = True\n",
    "    ,stratify = None\n",
    ")"
   ]
  },
  {
   "cell_type": "markdown",
   "metadata": {},
   "source": [
    "Sub-training / Validation sets"
   ]
  },
  {
   "cell_type": "code",
   "execution_count": 246,
   "metadata": {},
   "outputs": [],
   "source": [
    "X_sub_train, X_validation, y_sub_train, y_validation = train_test_split(\n",
    "    X_train # X\n",
    "    ,y_train # y\n",
    "    ,test_size = PRM_PCT_VLD_FROM_TRN\n",
    "    ,random_state = PRM_RND\n",
    "    ,shuffle = True\n",
    "    ,stratify = None\n",
    ")"
   ]
  },
  {
   "cell_type": "markdown",
   "metadata": {},
   "source": [
    "## Explore the training set"
   ]
  },
  {
   "cell_type": "markdown",
   "metadata": {},
   "source": [
    "### Class distribution"
   ]
  },
  {
   "cell_type": "code",
   "execution_count": 247,
   "metadata": {},
   "outputs": [
    {
     "data": {
      "text/plain": [
       "<matplotlib.axes._subplots.AxesSubplot at 0x283adf746c8>"
      ]
     },
     "execution_count": 247,
     "metadata": {},
     "output_type": "execute_result"
    },
    {
     "data": {
      "image/png": "[encoded data removed]",
      "text/plain": [
       "<Figure size 432x288 with 1 Axes>"
      ]
     },
     "metadata": {
      "needs_background": "light"
     },
     "output_type": "display_data"
    }
   ],
   "source": [
    "y_sub_train.value_counts(\n",
    "    dropna = False\n",
    "    ,normalize = True\n",
    ").plot.barh()\n",
    "\n",
    "# --> Highly imbalanced (approximately 98% - 2%)\n",
    "# --> Consider resampling during training"
   ]
  },
  {
   "cell_type": "markdown",
   "metadata": {},
   "source": [
    "### Overview of (potential) predictors"
   ]
  },
  {
   "cell_type": "code",
   "execution_count": 248,
   "metadata": {},
   "outputs": [
    {
     "data": {
      "text/plain": [
       "(27776, 11)"
      ]
     },
     "execution_count": 248,
     "metadata": {},
     "output_type": "execute_result"
    }
   ],
   "source": [
    "X_sub_train.shape # Count of rows & columns"
   ]
  },
  {
   "cell_type": "code",
   "execution_count": 249,
   "metadata": {},
   "outputs": [
    {
     "name": "stdout",
     "output_type": "stream",
     "text": [
      "<class 'pandas.core.frame.DataFrame'>\n",
      "Int64Index: 27776 entries, 19365 to 25821\n",
      "Data columns (total 11 columns):\n",
      "id                   27776 non-null int64\n",
      "gender               27776 non-null object\n",
      "age                  27776 non-null float64\n",
      "hypertension         27776 non-null int64\n",
      "heart_disease        27776 non-null int64\n",
      "ever_married         27776 non-null object\n",
      "work_type            27776 non-null object\n",
      "Residence_type       27776 non-null object\n",
      "avg_glucose_level    27776 non-null float64\n",
      "bmi                  26827 non-null float64\n",
      "smoking_status       19267 non-null object\n",
      "dtypes: float64(3), int64(3), object(5)\n",
      "memory usage: 2.5+ MB\n"
     ]
    }
   ],
   "source": [
    "# Identify features with missing values\n",
    "# Make sure that the data type is correct\n",
    "X_sub_train.info() "
   ]
  },
  {
   "cell_type": "code",
   "execution_count": 250,
   "metadata": {},
   "outputs": [
    {
     "data": {
      "text/html": [
       "<div>\n",
       "<style scoped>\n",
       "    .dataframe tbody tr th:only-of-type {\n",
       "        vertical-align: middle;\n",
       "    }\n",
       "\n",
       "    .dataframe tbody tr th {\n",
       "        vertical-align: top;\n",
       "    }\n",
       "\n",
       "    .dataframe thead th {\n",
       "        text-align: right;\n",
       "    }\n",
       "</style>\n",
       "<table border=\"1\" class=\"dataframe\">\n",
       "  <thead>\n",
       "    <tr style=\"text-align: right;\">\n",
       "      <th></th>\n",
       "      <th>id</th>\n",
       "      <th>age</th>\n",
       "      <th>hypertension</th>\n",
       "      <th>heart_disease</th>\n",
       "      <th>avg_glucose_level</th>\n",
       "      <th>bmi</th>\n",
       "    </tr>\n",
       "  </thead>\n",
       "  <tbody>\n",
       "    <tr>\n",
       "      <td>count</td>\n",
       "      <td>27776.000000</td>\n",
       "      <td>27776.000000</td>\n",
       "      <td>27776.000000</td>\n",
       "      <td>27776.000000</td>\n",
       "      <td>27776.000000</td>\n",
       "      <td>26827.000000</td>\n",
       "    </tr>\n",
       "    <tr>\n",
       "      <td>mean</td>\n",
       "      <td>36373.908950</td>\n",
       "      <td>42.140514</td>\n",
       "      <td>0.093750</td>\n",
       "      <td>0.048063</td>\n",
       "      <td>104.217291</td>\n",
       "      <td>28.587457</td>\n",
       "    </tr>\n",
       "    <tr>\n",
       "      <td>std</td>\n",
       "      <td>21044.229304</td>\n",
       "      <td>22.540124</td>\n",
       "      <td>0.291486</td>\n",
       "      <td>0.213903</td>\n",
       "      <td>42.976015</td>\n",
       "      <td>7.728739</td>\n",
       "    </tr>\n",
       "    <tr>\n",
       "      <td>min</td>\n",
       "      <td>1.000000</td>\n",
       "      <td>0.080000</td>\n",
       "      <td>0.000000</td>\n",
       "      <td>0.000000</td>\n",
       "      <td>55.000000</td>\n",
       "      <td>10.300000</td>\n",
       "    </tr>\n",
       "    <tr>\n",
       "      <td>25%</td>\n",
       "      <td>18070.000000</td>\n",
       "      <td>24.000000</td>\n",
       "      <td>0.000000</td>\n",
       "      <td>0.000000</td>\n",
       "      <td>77.400000</td>\n",
       "      <td>23.200000</td>\n",
       "    </tr>\n",
       "    <tr>\n",
       "      <td>50%</td>\n",
       "      <td>36430.500000</td>\n",
       "      <td>44.000000</td>\n",
       "      <td>0.000000</td>\n",
       "      <td>0.000000</td>\n",
       "      <td>91.450000</td>\n",
       "      <td>27.700000</td>\n",
       "    </tr>\n",
       "    <tr>\n",
       "      <td>75%</td>\n",
       "      <td>54532.250000</td>\n",
       "      <td>60.000000</td>\n",
       "      <td>0.000000</td>\n",
       "      <td>0.000000</td>\n",
       "      <td>111.760000</td>\n",
       "      <td>32.800000</td>\n",
       "    </tr>\n",
       "    <tr>\n",
       "      <td>max</td>\n",
       "      <td>72939.000000</td>\n",
       "      <td>82.000000</td>\n",
       "      <td>1.000000</td>\n",
       "      <td>1.000000</td>\n",
       "      <td>291.050000</td>\n",
       "      <td>89.100000</td>\n",
       "    </tr>\n",
       "  </tbody>\n",
       "</table>\n",
       "</div>"
      ],
      "text/plain": [
       "                 id           age  hypertension  heart_disease  \\\n",
       "count  27776.000000  27776.000000  27776.000000   27776.000000   \n",
       "mean   36373.908950     42.140514      0.093750       0.048063   \n",
       "std    21044.229304     22.540124      0.291486       0.213903   \n",
       "min        1.000000      0.080000      0.000000       0.000000   \n",
       "25%    18070.000000     24.000000      0.000000       0.000000   \n",
       "50%    36430.500000     44.000000      0.000000       0.000000   \n",
       "75%    54532.250000     60.000000      0.000000       0.000000   \n",
       "max    72939.000000     82.000000      1.000000       1.000000   \n",
       "\n",
       "       avg_glucose_level           bmi  \n",
       "count       27776.000000  26827.000000  \n",
       "mean          104.217291     28.587457  \n",
       "std            42.976015      7.728739  \n",
       "min            55.000000     10.300000  \n",
       "25%            77.400000     23.200000  \n",
       "50%            91.450000     27.700000  \n",
       "75%           111.760000     32.800000  \n",
       "max           291.050000     89.100000  "
      ]
     },
     "execution_count": 250,
     "metadata": {},
     "output_type": "execute_result"
    }
   ],
   "source": [
    "X_sub_train.describe() # Statistics regrading the numeric features"
   ]
  },
  {
   "cell_type": "code",
   "execution_count": 251,
   "metadata": {},
   "outputs": [
    {
     "data": {
      "text/plain": [
       "Female    0.591806\n",
       "Male      0.407834\n",
       "Other     0.000360\n",
       "Name: gender, dtype: float64"
      ]
     },
     "execution_count": 251,
     "metadata": {},
     "output_type": "execute_result"
    }
   ],
   "source": [
    "X_sub_train['gender'].value_counts(\n",
    "    dropna = False\n",
    "    ,normalize = True\n",
    ")#.plot.barh()\n",
    "\n",
    "# Relatively balanced, makes sense\n",
    "# --> Keep 'Other', might be difficult to infer on the validation / test set"
   ]
  },
  {
   "cell_type": "code",
   "execution_count": 252,
   "metadata": {},
   "outputs": [
    {
     "data": {
      "text/plain": [
       "0    0.90625\n",
       "1    0.09375\n",
       "Name: hypertension, dtype: float64"
      ]
     },
     "execution_count": 252,
     "metadata": {},
     "output_type": "execute_result"
    }
   ],
   "source": [
    "X_sub_train['hypertension'].value_counts(\n",
    "    dropna = False\n",
    "    ,normalize = True\n",
    ")#.plot.barh()\n",
    "\n",
    "# --> The distribution seems realistic"
   ]
  },
  {
   "cell_type": "code",
   "execution_count": 253,
   "metadata": {},
   "outputs": [
    {
     "data": {
      "text/plain": [
       "0    0.951937\n",
       "1    0.048063\n",
       "Name: heart_disease, dtype: float64"
      ]
     },
     "execution_count": 253,
     "metadata": {},
     "output_type": "execute_result"
    }
   ],
   "source": [
    "X_sub_train['heart_disease'].value_counts(\n",
    "    dropna = False\n",
    "    ,normalize = True\n",
    ")#.plot.barh()\n",
    "\n",
    "# --> The distribution seems realistic"
   ]
  },
  {
   "cell_type": "code",
   "execution_count": 254,
   "metadata": {},
   "outputs": [
    {
     "data": {
      "text/plain": [
       "Yes    0.641813\n",
       "No     0.358187\n",
       "Name: ever_married, dtype: float64"
      ]
     },
     "execution_count": 254,
     "metadata": {},
     "output_type": "execute_result"
    }
   ],
   "source": [
    "X_sub_train['ever_married'].value_counts(\n",
    "    dropna = False\n",
    "    ,normalize = True\n",
    ")#.plot.barh()\n",
    "\n",
    "# --> The distribution seems realistic"
   ]
  },
  {
   "cell_type": "code",
   "execution_count": 255,
   "metadata": {},
   "outputs": [
    {
     "data": {
      "text/plain": [
       "Private          0.573409\n",
       "Self-employed    0.154846\n",
       "children         0.143001\n",
       "Govt_job         0.125072\n",
       "Never_worked     0.003672\n",
       "Name: work_type, dtype: float64"
      ]
     },
     "execution_count": 255,
     "metadata": {},
     "output_type": "execute_result"
    }
   ],
   "source": [
    "X_sub_train['work_type'].value_counts(\n",
    "    dropna = False\n",
    "    ,normalize = True\n",
    ")#.plot.barh()\n",
    "\n",
    "# --> The distribution seems realistic"
   ]
  },
  {
   "cell_type": "code",
   "execution_count": 256,
   "metadata": {},
   "outputs": [
    {
     "data": {
      "text/plain": [
       "Urban    0.503312\n",
       "Rural    0.496688\n",
       "Name: Residence_type, dtype: float64"
      ]
     },
     "execution_count": 256,
     "metadata": {},
     "output_type": "execute_result"
    }
   ],
   "source": [
    "X_sub_train['Residence_type'].value_counts(\n",
    "    dropna = False\n",
    "    ,normalize = True\n",
    ")#.plot.barh()\n",
    "\n",
    "# --> The distribution seems OK, although probably not from Israel (biased towards 'Rural')"
   ]
  },
  {
   "cell_type": "code",
   "execution_count": 257,
   "metadata": {},
   "outputs": [
    {
     "data": {
      "text/html": [
       "<div>\n",
       "<style scoped>\n",
       "    .dataframe tbody tr th:only-of-type {\n",
       "        vertical-align: middle;\n",
       "    }\n",
       "\n",
       "    .dataframe tbody tr th {\n",
       "        vertical-align: top;\n",
       "    }\n",
       "\n",
       "    .dataframe thead th {\n",
       "        text-align: right;\n",
       "    }\n",
       "</style>\n",
       "<table border=\"1\" class=\"dataframe\">\n",
       "  <thead>\n",
       "    <tr style=\"text-align: right;\">\n",
       "      <th>hypertension</th>\n",
       "      <th>0</th>\n",
       "      <th>1</th>\n",
       "    </tr>\n",
       "    <tr>\n",
       "      <th>ever_married</th>\n",
       "      <th></th>\n",
       "      <th></th>\n",
       "    </tr>\n",
       "  </thead>\n",
       "  <tbody>\n",
       "    <tr>\n",
       "      <td>No</td>\n",
       "      <td>0.974972</td>\n",
       "      <td>0.025028</td>\n",
       "    </tr>\n",
       "    <tr>\n",
       "      <td>Yes</td>\n",
       "      <td>0.867897</td>\n",
       "      <td>0.132103</td>\n",
       "    </tr>\n",
       "  </tbody>\n",
       "</table>\n",
       "</div>"
      ],
      "text/plain": [
       "hypertension         0         1\n",
       "ever_married                    \n",
       "No            0.974972  0.025028\n",
       "Yes           0.867897  0.132103"
      ]
     },
     "execution_count": 257,
     "metadata": {},
     "output_type": "execute_result"
    }
   ],
   "source": [
    "pd.crosstab(\n",
    "    X_sub_train['ever_married']\n",
    "    ,X_sub_train['hypertension']\n",
    "    ,dropna = False\n",
    "    ,normalize = 'index'\n",
    ")\n",
    "\n",
    "# Interesting..."
   ]
  },
  {
   "cell_type": "markdown",
   "metadata": {},
   "source": [
    "### Preliminary insights, questions and decisions"
   ]
  },
  {
   "cell_type": "markdown",
   "metadata": {},
   "source": [
    "Insights\n",
    "* __Age__: Min seems questionable yet OK\n",
    "* __gender__:                 \n",
    "* __Hypertension__: [Possibly stands for](https://en.wikipedia.org/wiki/Hypertension#:~:text=Hypertension%20(HTN%20or%20HT)%2C,typically%20does%20not%20cause%20symptoms.) \"HT / HTN / High Blood Pressure / HBP\"; The range seems like [0, 1], so probably boolean\n",
    "* __Heart_disease__: Probably boolean\n",
    "* __ever_married__: \n",
    "* __work_type__: \n",
    "* __Residence_type__: \n",
    "* __Avg_glucose_level__: Probably in [terms of](https://www.diabetes.co.uk/diabetes_care/blood-sugar-level-ranges.html) mg/dL rather than mmol/L; Levels above 200 may indicate diabetes\n",
    "* __bmi__: Body Mass Index, levels above 40 [indicate](https://en.wikipedia.org/wiki/Body_mass_index) Class III Obesity (Very severely obese), here we have much more; also 949 missing values (~3.4%)\n",
    "* __smoking_status__: 8,509 missing values (~30.6%)\n",
    "\n",
    "Questions\n",
    "* Are babies taken into account? Some values are really low\n",
    "\n",
    "Decisions\n",
    "* bmi: Clip at 40 (upper bound)\n",
    "* bmi: Remove missing values from the training set, impute in the validation & test sets using the training's median\n",
    "* smoking_status: Check if missing implies 'non-smoking'\n",
    "* __put all of the insights into a preprocessing function__\n"
   ]
  },
  {
   "cell_type": "code",
   "execution_count": 258,
   "metadata": {},
   "outputs": [
    {
     "data": {
      "text/plain": [
       "never smoked       10272\n",
       "NaN                 8509\n",
       "formerly smoked     4814\n",
       "smokes              4181\n",
       "Name: smoking_status, dtype: int64"
      ]
     },
     "execution_count": 258,
     "metadata": {},
     "output_type": "execute_result"
    }
   ],
   "source": [
    "# Distribution\n",
    "X_sub_train['smoking_status'].value_counts(dropna = False)"
   ]
  },
  {
   "cell_type": "code",
   "execution_count": 259,
   "metadata": {},
   "outputs": [
    {
     "data": {
      "text/html": [
       "<div>\n",
       "<style scoped>\n",
       "    .dataframe tbody tr th:only-of-type {\n",
       "        vertical-align: middle;\n",
       "    }\n",
       "\n",
       "    .dataframe tbody tr th {\n",
       "        vertical-align: top;\n",
       "    }\n",
       "\n",
       "    .dataframe thead th {\n",
       "        text-align: right;\n",
       "    }\n",
       "</style>\n",
       "<table border=\"1\" class=\"dataframe\">\n",
       "  <thead>\n",
       "    <tr style=\"text-align: right;\">\n",
       "      <th></th>\n",
       "      <th>age</th>\n",
       "      <th>smoking_status</th>\n",
       "    </tr>\n",
       "  </thead>\n",
       "  <tbody>\n",
       "    <tr>\n",
       "      <td>34498</td>\n",
       "      <td>0.08</td>\n",
       "      <td>NaN</td>\n",
       "    </tr>\n",
       "    <tr>\n",
       "      <td>7837</td>\n",
       "      <td>0.08</td>\n",
       "      <td>NaN</td>\n",
       "    </tr>\n",
       "    <tr>\n",
       "      <td>25940</td>\n",
       "      <td>0.08</td>\n",
       "      <td>NaN</td>\n",
       "    </tr>\n",
       "    <tr>\n",
       "      <td>21869</td>\n",
       "      <td>0.08</td>\n",
       "      <td>NaN</td>\n",
       "    </tr>\n",
       "    <tr>\n",
       "      <td>4855</td>\n",
       "      <td>0.08</td>\n",
       "      <td>NaN</td>\n",
       "    </tr>\n",
       "    <tr>\n",
       "      <td>17933</td>\n",
       "      <td>0.08</td>\n",
       "      <td>NaN</td>\n",
       "    </tr>\n",
       "    <tr>\n",
       "      <td>20610</td>\n",
       "      <td>0.08</td>\n",
       "      <td>NaN</td>\n",
       "    </tr>\n",
       "    <tr>\n",
       "      <td>24294</td>\n",
       "      <td>0.08</td>\n",
       "      <td>NaN</td>\n",
       "    </tr>\n",
       "    <tr>\n",
       "      <td>36914</td>\n",
       "      <td>0.08</td>\n",
       "      <td>NaN</td>\n",
       "    </tr>\n",
       "    <tr>\n",
       "      <td>6493</td>\n",
       "      <td>0.08</td>\n",
       "      <td>NaN</td>\n",
       "    </tr>\n",
       "    <tr>\n",
       "      <td>28267</td>\n",
       "      <td>0.08</td>\n",
       "      <td>NaN</td>\n",
       "    </tr>\n",
       "    <tr>\n",
       "      <td>18430</td>\n",
       "      <td>0.08</td>\n",
       "      <td>NaN</td>\n",
       "    </tr>\n",
       "    <tr>\n",
       "      <td>34577</td>\n",
       "      <td>0.16</td>\n",
       "      <td>NaN</td>\n",
       "    </tr>\n",
       "    <tr>\n",
       "      <td>16675</td>\n",
       "      <td>0.16</td>\n",
       "      <td>NaN</td>\n",
       "    </tr>\n",
       "    <tr>\n",
       "      <td>10898</td>\n",
       "      <td>0.16</td>\n",
       "      <td>NaN</td>\n",
       "    </tr>\n",
       "  </tbody>\n",
       "</table>\n",
       "</div>"
      ],
      "text/plain": [
       "        age smoking_status\n",
       "34498  0.08            NaN\n",
       "7837   0.08            NaN\n",
       "25940  0.08            NaN\n",
       "21869  0.08            NaN\n",
       "4855   0.08            NaN\n",
       "17933  0.08            NaN\n",
       "20610  0.08            NaN\n",
       "24294  0.08            NaN\n",
       "36914  0.08            NaN\n",
       "6493   0.08            NaN\n",
       "28267  0.08            NaN\n",
       "18430  0.08            NaN\n",
       "34577  0.16            NaN\n",
       "16675  0.16            NaN\n",
       "10898  0.16            NaN"
      ]
     },
     "execution_count": 259,
     "metadata": {},
     "output_type": "execute_result"
    }
   ],
   "source": [
    "# Look for unreal combinations, e.g., baby smokers\n",
    "X_sub_train[['age', 'smoking_status']].copy().sort_values(\n",
    "    by = 'age'\n",
    "    ,ascending = True\n",
    ").head(n = 15)"
   ]
  },
  {
   "cell_type": "code",
   "execution_count": 260,
   "metadata": {},
   "outputs": [
    {
     "data": {
      "text/plain": [
       "(-0.00292, 8.272]    2542\n",
       "(8.272, 16.464]      1291\n",
       "(16.464, 24.656]      709\n",
       "(49.232, 57.424]      660\n",
       "(32.848, 41.04]       649\n",
       "(41.04, 49.232]       619\n",
       "(24.656, 32.848]      543\n",
       "(73.808, 82.0]        530\n",
       "(57.424, 65.616]      521\n",
       "(65.616, 73.808]      445\n",
       "Name: age, dtype: int64"
      ]
     },
     "execution_count": 260,
     "metadata": {},
     "output_type": "execute_result"
    }
   ],
   "source": [
    "# What is the age distribution for unknown smoking status?\n",
    "X_sub_train[X_sub_train['smoking_status'].isnull()]['age'].value_counts(bins=10)"
   ]
  },
  {
   "cell_type": "markdown",
   "metadata": {},
   "source": [
    "### Parameters for preprocessing"
   ]
  },
  {
   "cell_type": "code",
   "execution_count": 261,
   "metadata": {},
   "outputs": [],
   "source": [
    "BMI_MAX = 40 # for upper clipping\n",
    "BMI_MEDIAN = X_sub_train['bmi'].median(skipna = True) # for imputing missing values\n",
    "MAX_AGE_FOR_YOUNG = 15"
   ]
  },
  {
   "cell_type": "markdown",
   "metadata": {},
   "source": [
    "### Young persons have most probably never really smoked, others are added to a new 'unknown' category"
   ]
  },
  {
   "cell_type": "code",
   "execution_count": 262,
   "metadata": {},
   "outputs": [],
   "source": [
    "def replace_missing_smoking_status(x):\n",
    "    if pd.isna(x['smoking_status']):\n",
    "        if x['age'] < MAX_AGE_FOR_YOUNG:\n",
    "            return 'never smoked'\n",
    "        else:\n",
    "            return 'unknown'\n",
    "    else:\n",
    "        return x['smoking_status']"
   ]
  },
  {
   "cell_type": "markdown",
   "metadata": {},
   "source": [
    "## Function to preprocess a dataset"
   ]
  },
  {
   "cell_type": "code",
   "execution_count": 263,
   "metadata": {},
   "outputs": [],
   "source": [
    "def preprocess_dataset(df_x, df_y, partition_type):\n",
    "    \n",
    "    # Remove the 'id' column\n",
    "    df_x = df_x.drop(\n",
    "        labels = ['id']\n",
    "        ,axis = 1\n",
    "        ,inplace = False\n",
    "    )\n",
    "    \n",
    "    # Clip the BMI at 40 (upper bound)\n",
    "    df_x['bmi'] = df_x['bmi'].clip(\n",
    "        upper = BMI_MAX\n",
    "        ,inplace = False\n",
    "    )\n",
    "    \n",
    "    # Convert to boolean - predictors\n",
    "    df_x['gender'] = pd.Series(df_x['gender'] == 'Male')\n",
    "    df_x['hypertension'] = pd.Series(df_x['hypertension'] == 1)\n",
    "    df_x['heart_disease'] = pd.Series(df_x['heart_disease'] == 1)\n",
    "    df_x['ever_married'] = pd.Series(df_x['ever_married'] == 'Yes')\n",
    "    \n",
    "    # Convert to boolean - Stroke (class)\n",
    "    df_y = pd.Series(df_y == 1)\n",
    "    \n",
    "    # Handle missing values\n",
    "    \n",
    "    # Smoking status\n",
    "    df_x['smoking_status'] = df_x.apply(replace_missing_smoking_status, axis=1)\n",
    "    \n",
    "    # BMI\n",
    "    if (partition_type == 'training'):\n",
    "        df_y = df_y[df_x['bmi'].notnull()] # first drop from y\n",
    "        df_x = df_x[df_x['bmi'].notnull()] # then drop from X\n",
    "    else: # validation or test sets\n",
    "        df_x['bmi'].fillna(\n",
    "            value = BMI_MEDIAN\n",
    "            ,inplace = True\n",
    "        )\n",
    "    \n",
    "    return df_x, df_y"
   ]
  },
  {
   "cell_type": "code",
   "execution_count": 264,
   "metadata": {},
   "outputs": [],
   "source": [
    "# dx = X_sub_train.copy()\n",
    "# dy = y_sub_train.copy()"
   ]
  },
  {
   "cell_type": "code",
   "execution_count": 265,
   "metadata": {},
   "outputs": [],
   "source": [
    "# dx.info() # Identify features with missing values"
   ]
  },
  {
   "cell_type": "code",
   "execution_count": 266,
   "metadata": {},
   "outputs": [],
   "source": [
    "# dx, dy = preprocess_dataset(dx, dy, 'training')"
   ]
  },
  {
   "cell_type": "code",
   "execution_count": 267,
   "metadata": {},
   "outputs": [],
   "source": [
    "# dx.info() # Identify features with missing values"
   ]
  },
  {
   "cell_type": "code",
   "execution_count": 268,
   "metadata": {},
   "outputs": [],
   "source": [
    "# dx['smoking_status'].value_counts(dropna = False)"
   ]
  },
  {
   "cell_type": "markdown",
   "metadata": {},
   "source": [
    "# Training"
   ]
  },
  {
   "cell_type": "code",
   "execution_count": 269,
   "metadata": {},
   "outputs": [],
   "source": [
    "# Preprocess the training set\n",
    "X_sub_train, y_sub_train = preprocess_dataset(X_sub_train, y_sub_train, 'training')"
   ]
  },
  {
   "cell_type": "code",
   "execution_count": 272,
   "metadata": {},
   "outputs": [
    {
     "name": "stdout",
     "output_type": "stream",
     "text": [
      "<class 'pandas.core.frame.DataFrame'>\n",
      "Int64Index: 26827 entries, 19365 to 25821\n",
      "Data columns (total 10 columns):\n",
      "gender               26827 non-null bool\n",
      "age                  26827 non-null float64\n",
      "hypertension         26827 non-null bool\n",
      "heart_disease        26827 non-null bool\n",
      "ever_married         26827 non-null bool\n",
      "work_type            26827 non-null object\n",
      "Residence_type       26827 non-null object\n",
      "avg_glucose_level    26827 non-null float64\n",
      "bmi                  26827 non-null float64\n",
      "smoking_status       26827 non-null object\n",
      "dtypes: bool(4), float64(3), object(3)\n",
      "memory usage: 1.5+ MB\n"
     ]
    }
   ],
   "source": [
    "# Validate expected changes\n",
    "X_sub_train.info()"
   ]
  },
  {
   "cell_type": "markdown",
   "metadata": {},
   "source": [
    "### Corrections: Test set"
   ]
  },
  {
   "cell_type": "code",
   "execution_count": 270,
   "metadata": {},
   "outputs": [],
   "source": [
    "# X_train['bmi'].clip(\n",
    "#     upper = 40\n",
    "#     ,inplace = True\n",
    "# )"
   ]
  }
 ],
 "metadata": {
  "kernelspec": {
   "display_name": "Python 3",
   "language": "python",
   "name": "python3"
  },
  "language_info": {
   "codemirror_mode": {
    "name": "ipython",
    "version": 3
   },
   "file_extension": ".py",
   "mimetype": "text/x-python",
   "name": "python",
   "nbconvert_exporter": "python",
   "pygments_lexer": "ipython3",
   "version": "3.7.4"
  }
 },
 "nbformat": 4,
 "nbformat_minor": 2
}
