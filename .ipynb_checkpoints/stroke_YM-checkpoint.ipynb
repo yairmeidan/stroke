{
 "cells": [
  {
   "cell_type": "markdown",
   "metadata": {},
   "source": [
    "# Imports"
   ]
  },
  {
   "cell_type": "code",
   "execution_count": 1530,
   "metadata": {},
   "outputs": [],
   "source": [
    "import pandas as pd\n",
    "import numpy as np\n",
    "from sklearn.model_selection import train_test_split\n",
    "import matplotlib.pyplot as plt\n",
    "from sklearn.preprocessing import LabelEncoder, OneHotEncoder, MinMaxScaler\n",
    "import lightgbm as lgbm\n",
    "from sklearn.ensemble import RandomForestClassifier\n",
    "from sklearn.metrics import confusion_matrix, precision_recall_curve, average_precision_score"
   ]
  },
  {
   "cell_type": "markdown",
   "metadata": {},
   "source": [
    "# Parameters"
   ]
  },
  {
   "cell_type": "code",
   "execution_count": 1531,
   "metadata": {},
   "outputs": [],
   "source": [
    "PRM_PCT_TST = 0.2 # Percantage of samples for the test set\n",
    "PRM_PCT_VLD_FROM_TRN = 0.2 # Percantage of samples from the complete training set for the validation set\n",
    "PRM_RND = 23 # Random seed"
   ]
  },
  {
   "cell_type": "code",
   "execution_count": 1532,
   "metadata": {},
   "outputs": [
    {
     "data": {
      "text/plain": [
       "Index(['id', 'gender', 'age', 'hypertension', 'heart_disease', 'ever_married',\n",
       "       'work_type', 'Residence_type', 'avg_glucose_level', 'bmi',\n",
       "       'smoking_status', 'stroke'],\n",
       "      dtype='object')"
      ]
     },
     "execution_count": 1532,
     "metadata": {},
     "output_type": "execute_result"
    }
   ],
   "source": [
    "df.columns"
   ]
  },
  {
   "cell_type": "markdown",
   "metadata": {},
   "source": [
    "## Read the data"
   ]
  },
  {
   "cell_type": "code",
   "execution_count": 1533,
   "metadata": {},
   "outputs": [],
   "source": [
    "df = pd.read_csv('stroke_data.csv')"
   ]
  },
  {
   "cell_type": "markdown",
   "metadata": {},
   "source": [
    "## Dataset outline"
   ]
  },
  {
   "cell_type": "markdown",
   "metadata": {},
   "source": [
    "### Observe a few rows"
   ]
  },
  {
   "cell_type": "code",
   "execution_count": 1534,
   "metadata": {},
   "outputs": [
    {
     "data": {
      "text/html": [
       "<div>\n",
       "<style scoped>\n",
       "    .dataframe tbody tr th:only-of-type {\n",
       "        vertical-align: middle;\n",
       "    }\n",
       "\n",
       "    .dataframe tbody tr th {\n",
       "        vertical-align: top;\n",
       "    }\n",
       "\n",
       "    .dataframe thead th {\n",
       "        text-align: right;\n",
       "    }\n",
       "</style>\n",
       "<table border=\"1\" class=\"dataframe\">\n",
       "  <thead>\n",
       "    <tr style=\"text-align: right;\">\n",
       "      <th></th>\n",
       "      <th>id</th>\n",
       "      <th>gender</th>\n",
       "      <th>age</th>\n",
       "      <th>hypertension</th>\n",
       "      <th>heart_disease</th>\n",
       "      <th>ever_married</th>\n",
       "      <th>work_type</th>\n",
       "      <th>Residence_type</th>\n",
       "      <th>avg_glucose_level</th>\n",
       "      <th>bmi</th>\n",
       "      <th>smoking_status</th>\n",
       "      <th>stroke</th>\n",
       "    </tr>\n",
       "  </thead>\n",
       "  <tbody>\n",
       "    <tr>\n",
       "      <td>0</td>\n",
       "      <td>1</td>\n",
       "      <td>Female</td>\n",
       "      <td>80.0</td>\n",
       "      <td>0</td>\n",
       "      <td>1</td>\n",
       "      <td>Yes</td>\n",
       "      <td>Self-employed</td>\n",
       "      <td>Urban</td>\n",
       "      <td>67.45</td>\n",
       "      <td>25.6</td>\n",
       "      <td>never smoked</td>\n",
       "      <td>0</td>\n",
       "    </tr>\n",
       "    <tr>\n",
       "      <td>1</td>\n",
       "      <td>4</td>\n",
       "      <td>Female</td>\n",
       "      <td>37.0</td>\n",
       "      <td>0</td>\n",
       "      <td>0</td>\n",
       "      <td>Yes</td>\n",
       "      <td>Private</td>\n",
       "      <td>Rural</td>\n",
       "      <td>82.15</td>\n",
       "      <td>24.3</td>\n",
       "      <td>smokes</td>\n",
       "      <td>0</td>\n",
       "    </tr>\n",
       "    <tr>\n",
       "      <td>2</td>\n",
       "      <td>6</td>\n",
       "      <td>Female</td>\n",
       "      <td>21.0</td>\n",
       "      <td>0</td>\n",
       "      <td>0</td>\n",
       "      <td>No</td>\n",
       "      <td>Private</td>\n",
       "      <td>Urban</td>\n",
       "      <td>75.73</td>\n",
       "      <td>NaN</td>\n",
       "      <td>never smoked</td>\n",
       "      <td>0</td>\n",
       "    </tr>\n",
       "    <tr>\n",
       "      <td>3</td>\n",
       "      <td>7</td>\n",
       "      <td>Female</td>\n",
       "      <td>44.0</td>\n",
       "      <td>0</td>\n",
       "      <td>0</td>\n",
       "      <td>Yes</td>\n",
       "      <td>Private</td>\n",
       "      <td>Urban</td>\n",
       "      <td>222.75</td>\n",
       "      <td>19.6</td>\n",
       "      <td>never smoked</td>\n",
       "      <td>0</td>\n",
       "    </tr>\n",
       "    <tr>\n",
       "      <td>4</td>\n",
       "      <td>8</td>\n",
       "      <td>Female</td>\n",
       "      <td>79.0</td>\n",
       "      <td>0</td>\n",
       "      <td>0</td>\n",
       "      <td>Yes</td>\n",
       "      <td>Private</td>\n",
       "      <td>Urban</td>\n",
       "      <td>99.23</td>\n",
       "      <td>25.1</td>\n",
       "      <td>NaN</td>\n",
       "      <td>0</td>\n",
       "    </tr>\n",
       "  </tbody>\n",
       "</table>\n",
       "</div>"
      ],
      "text/plain": [
       "   id  gender   age  hypertension  heart_disease ever_married      work_type  \\\n",
       "0   1  Female  80.0             0              1          Yes  Self-employed   \n",
       "1   4  Female  37.0             0              0          Yes        Private   \n",
       "2   6  Female  21.0             0              0           No        Private   \n",
       "3   7  Female  44.0             0              0          Yes        Private   \n",
       "4   8  Female  79.0             0              0          Yes        Private   \n",
       "\n",
       "  Residence_type  avg_glucose_level   bmi smoking_status  stroke  \n",
       "0          Urban              67.45  25.6   never smoked       0  \n",
       "1          Rural              82.15  24.3         smokes       0  \n",
       "2          Urban              75.73   NaN   never smoked       0  \n",
       "3          Urban             222.75  19.6   never smoked       0  \n",
       "4          Urban              99.23  25.1            NaN       0  "
      ]
     },
     "execution_count": 1534,
     "metadata": {},
     "output_type": "execute_result"
    }
   ],
   "source": [
    "df.head()"
   ]
  },
  {
   "cell_type": "markdown",
   "metadata": {},
   "source": [
    "### Get the shape of the dataset"
   ]
  },
  {
   "cell_type": "code",
   "execution_count": 1535,
   "metadata": {},
   "outputs": [
    {
     "data": {
      "text/plain": [
       "(43400, 12)"
      ]
     },
     "execution_count": 1535,
     "metadata": {},
     "output_type": "execute_result"
    }
   ],
   "source": [
    "df.shape"
   ]
  },
  {
   "cell_type": "markdown",
   "metadata": {},
   "source": [
    "### Make sure that each ID shows only once"
   ]
  },
  {
   "cell_type": "code",
   "execution_count": 1536,
   "metadata": {},
   "outputs": [
    {
     "data": {
      "text/plain": [
       "43400"
      ]
     },
     "execution_count": 1536,
     "metadata": {},
     "output_type": "execute_result"
    }
   ],
   "source": [
    "len(df['id'].unique())"
   ]
  },
  {
   "cell_type": "markdown",
   "metadata": {},
   "source": [
    "## Partition the data"
   ]
  },
  {
   "cell_type": "markdown",
   "metadata": {},
   "source": [
    "Training / Test sets"
   ]
  },
  {
   "cell_type": "code",
   "execution_count": 1537,
   "metadata": {},
   "outputs": [],
   "source": [
    "X_train, X_test, y_train, y_test = train_test_split(\n",
    "    df.drop('stroke', axis = 1) # X\n",
    "    ,df['stroke'] # y\n",
    "    ,test_size = PRM_PCT_TST\n",
    "    ,random_state = PRM_RND\n",
    "    ,shuffle = True\n",
    "    ,stratify = None\n",
    ")"
   ]
  },
  {
   "cell_type": "markdown",
   "metadata": {},
   "source": [
    "Sub-training / Validation sets"
   ]
  },
  {
   "cell_type": "code",
   "execution_count": 1538,
   "metadata": {},
   "outputs": [],
   "source": [
    "X_sub_train, X_validation, y_sub_train, y_validation = train_test_split(\n",
    "    X_train # X\n",
    "    ,y_train # y\n",
    "    ,test_size = PRM_PCT_VLD_FROM_TRN\n",
    "    ,random_state = PRM_RND\n",
    "    ,shuffle = True\n",
    "    ,stratify = None\n",
    ")"
   ]
  },
  {
   "cell_type": "markdown",
   "metadata": {},
   "source": [
    "## Explore the training set"
   ]
  },
  {
   "cell_type": "markdown",
   "metadata": {},
   "source": [
    "### Class distribution"
   ]
  },
  {
   "cell_type": "code",
   "execution_count": 1539,
   "metadata": {},
   "outputs": [
    {
     "data": {
      "text/plain": [
       "<matplotlib.axes._subplots.AxesSubplot at 0x1b3404c37c8>"
      ]
     },
     "execution_count": 1539,
     "metadata": {},
     "output_type": "execute_result"
    },
    {
     "data": {
      "image/png": "[encoded data removed]",
      "text/plain": [
       "<Figure size 432x288 with 1 Axes>"
      ]
     },
     "metadata": {
      "needs_background": "light"
     },
     "output_type": "display_data"
    }
   ],
   "source": [
    "y_sub_train.value_counts(\n",
    "    dropna = False\n",
    "    ,normalize = True\n",
    ").plot.barh()\n",
    "\n",
    "# --> Highly imbalanced (approximately 98% - 2%)\n",
    "# --> Consider resampling during training"
   ]
  },
  {
   "cell_type": "markdown",
   "metadata": {},
   "source": [
    "### Overview of (potential) predictors"
   ]
  },
  {
   "cell_type": "code",
   "execution_count": 1540,
   "metadata": {},
   "outputs": [
    {
     "data": {
      "text/plain": [
       "(27776, 11)"
      ]
     },
     "execution_count": 1540,
     "metadata": {},
     "output_type": "execute_result"
    }
   ],
   "source": [
    "X_sub_train.shape # Count of rows & columns"
   ]
  },
  {
   "cell_type": "code",
   "execution_count": 1541,
   "metadata": {},
   "outputs": [
    {
     "name": "stdout",
     "output_type": "stream",
     "text": [
      "<class 'pandas.core.frame.DataFrame'>\n",
      "Int64Index: 27776 entries, 19365 to 25821\n",
      "Data columns (total 11 columns):\n",
      "id                   27776 non-null int64\n",
      "gender               27776 non-null object\n",
      "age                  27776 non-null float64\n",
      "hypertension         27776 non-null int64\n",
      "heart_disease        27776 non-null int64\n",
      "ever_married         27776 non-null object\n",
      "work_type            27776 non-null object\n",
      "Residence_type       27776 non-null object\n",
      "avg_glucose_level    27776 non-null float64\n",
      "bmi                  26827 non-null float64\n",
      "smoking_status       19267 non-null object\n",
      "dtypes: float64(3), int64(3), object(5)\n",
      "memory usage: 2.5+ MB\n"
     ]
    }
   ],
   "source": [
    "# Identify features with missing values\n",
    "# Make sure that the data type is correct\n",
    "X_sub_train.info() "
   ]
  },
  {
   "cell_type": "code",
   "execution_count": 1542,
   "metadata": {},
   "outputs": [
    {
     "data": {
      "text/html": [
       "<div>\n",
       "<style scoped>\n",
       "    .dataframe tbody tr th:only-of-type {\n",
       "        vertical-align: middle;\n",
       "    }\n",
       "\n",
       "    .dataframe tbody tr th {\n",
       "        vertical-align: top;\n",
       "    }\n",
       "\n",
       "    .dataframe thead th {\n",
       "        text-align: right;\n",
       "    }\n",
       "</style>\n",
       "<table border=\"1\" class=\"dataframe\">\n",
       "  <thead>\n",
       "    <tr style=\"text-align: right;\">\n",
       "      <th></th>\n",
       "      <th>id</th>\n",
       "      <th>age</th>\n",
       "      <th>hypertension</th>\n",
       "      <th>heart_disease</th>\n",
       "      <th>avg_glucose_level</th>\n",
       "      <th>bmi</th>\n",
       "    </tr>\n",
       "  </thead>\n",
       "  <tbody>\n",
       "    <tr>\n",
       "      <td>count</td>\n",
       "      <td>27776.000000</td>\n",
       "      <td>27776.000000</td>\n",
       "      <td>27776.000000</td>\n",
       "      <td>27776.000000</td>\n",
       "      <td>27776.000000</td>\n",
       "      <td>26827.000000</td>\n",
       "    </tr>\n",
       "    <tr>\n",
       "      <td>mean</td>\n",
       "      <td>36373.908950</td>\n",
       "      <td>42.140514</td>\n",
       "      <td>0.093750</td>\n",
       "      <td>0.048063</td>\n",
       "      <td>104.217291</td>\n",
       "      <td>28.587457</td>\n",
       "    </tr>\n",
       "    <tr>\n",
       "      <td>std</td>\n",
       "      <td>21044.229304</td>\n",
       "      <td>22.540124</td>\n",
       "      <td>0.291486</td>\n",
       "      <td>0.213903</td>\n",
       "      <td>42.976015</td>\n",
       "      <td>7.728739</td>\n",
       "    </tr>\n",
       "    <tr>\n",
       "      <td>min</td>\n",
       "      <td>1.000000</td>\n",
       "      <td>0.080000</td>\n",
       "      <td>0.000000</td>\n",
       "      <td>0.000000</td>\n",
       "      <td>55.000000</td>\n",
       "      <td>10.300000</td>\n",
       "    </tr>\n",
       "    <tr>\n",
       "      <td>25%</td>\n",
       "      <td>18070.000000</td>\n",
       "      <td>24.000000</td>\n",
       "      <td>0.000000</td>\n",
       "      <td>0.000000</td>\n",
       "      <td>77.400000</td>\n",
       "      <td>23.200000</td>\n",
       "    </tr>\n",
       "    <tr>\n",
       "      <td>50%</td>\n",
       "      <td>36430.500000</td>\n",
       "      <td>44.000000</td>\n",
       "      <td>0.000000</td>\n",
       "      <td>0.000000</td>\n",
       "      <td>91.450000</td>\n",
       "      <td>27.700000</td>\n",
       "    </tr>\n",
       "    <tr>\n",
       "      <td>75%</td>\n",
       "      <td>54532.250000</td>\n",
       "      <td>60.000000</td>\n",
       "      <td>0.000000</td>\n",
       "      <td>0.000000</td>\n",
       "      <td>111.760000</td>\n",
       "      <td>32.800000</td>\n",
       "    </tr>\n",
       "    <tr>\n",
       "      <td>max</td>\n",
       "      <td>72939.000000</td>\n",
       "      <td>82.000000</td>\n",
       "      <td>1.000000</td>\n",
       "      <td>1.000000</td>\n",
       "      <td>291.050000</td>\n",
       "      <td>89.100000</td>\n",
       "    </tr>\n",
       "  </tbody>\n",
       "</table>\n",
       "</div>"
      ],
      "text/plain": [
       "                 id           age  hypertension  heart_disease  \\\n",
       "count  27776.000000  27776.000000  27776.000000   27776.000000   \n",
       "mean   36373.908950     42.140514      0.093750       0.048063   \n",
       "std    21044.229304     22.540124      0.291486       0.213903   \n",
       "min        1.000000      0.080000      0.000000       0.000000   \n",
       "25%    18070.000000     24.000000      0.000000       0.000000   \n",
       "50%    36430.500000     44.000000      0.000000       0.000000   \n",
       "75%    54532.250000     60.000000      0.000000       0.000000   \n",
       "max    72939.000000     82.000000      1.000000       1.000000   \n",
       "\n",
       "       avg_glucose_level           bmi  \n",
       "count       27776.000000  26827.000000  \n",
       "mean          104.217291     28.587457  \n",
       "std            42.976015      7.728739  \n",
       "min            55.000000     10.300000  \n",
       "25%            77.400000     23.200000  \n",
       "50%            91.450000     27.700000  \n",
       "75%           111.760000     32.800000  \n",
       "max           291.050000     89.100000  "
      ]
     },
     "execution_count": 1542,
     "metadata": {},
     "output_type": "execute_result"
    }
   ],
   "source": [
    "X_sub_train.describe() # Statistics regrading the numeric features"
   ]
  },
  {
   "cell_type": "code",
   "execution_count": 1543,
   "metadata": {},
   "outputs": [
    {
     "data": {
      "text/plain": [
       "Female    0.591806\n",
       "Male      0.407834\n",
       "Other     0.000360\n",
       "Name: gender, dtype: float64"
      ]
     },
     "execution_count": 1543,
     "metadata": {},
     "output_type": "execute_result"
    }
   ],
   "source": [
    "X_sub_train['gender'].value_counts(\n",
    "    dropna = False\n",
    "    ,normalize = True\n",
    ")#.plot.barh()\n",
    "\n",
    "# Relatively balanced, makes sense\n",
    "# --> Keep 'Other', might be difficult to infer on the validation / test set"
   ]
  },
  {
   "cell_type": "code",
   "execution_count": 1544,
   "metadata": {},
   "outputs": [
    {
     "data": {
      "text/plain": [
       "0    0.90625\n",
       "1    0.09375\n",
       "Name: hypertension, dtype: float64"
      ]
     },
     "execution_count": 1544,
     "metadata": {},
     "output_type": "execute_result"
    }
   ],
   "source": [
    "X_sub_train['hypertension'].value_counts(\n",
    "    dropna = False\n",
    "    ,normalize = True\n",
    ")#.plot.barh()\n",
    "\n",
    "# --> The distribution seems realistic"
   ]
  },
  {
   "cell_type": "code",
   "execution_count": 1545,
   "metadata": {},
   "outputs": [
    {
     "data": {
      "text/plain": [
       "0    0.951937\n",
       "1    0.048063\n",
       "Name: heart_disease, dtype: float64"
      ]
     },
     "execution_count": 1545,
     "metadata": {},
     "output_type": "execute_result"
    }
   ],
   "source": [
    "X_sub_train['heart_disease'].value_counts(\n",
    "    dropna = False\n",
    "    ,normalize = True\n",
    ")#.plot.barh()\n",
    "\n",
    "# --> The distribution seems realistic"
   ]
  },
  {
   "cell_type": "code",
   "execution_count": 1546,
   "metadata": {},
   "outputs": [
    {
     "data": {
      "text/plain": [
       "Yes    0.641813\n",
       "No     0.358187\n",
       "Name: ever_married, dtype: float64"
      ]
     },
     "execution_count": 1546,
     "metadata": {},
     "output_type": "execute_result"
    }
   ],
   "source": [
    "X_sub_train['ever_married'].value_counts(\n",
    "    dropna = False\n",
    "    ,normalize = True\n",
    ")#.plot.barh()\n",
    "\n",
    "# --> The distribution seems realistic"
   ]
  },
  {
   "cell_type": "code",
   "execution_count": 1547,
   "metadata": {},
   "outputs": [
    {
     "data": {
      "text/plain": [
       "Private          0.573409\n",
       "Self-employed    0.154846\n",
       "children         0.143001\n",
       "Govt_job         0.125072\n",
       "Never_worked     0.003672\n",
       "Name: work_type, dtype: float64"
      ]
     },
     "execution_count": 1547,
     "metadata": {},
     "output_type": "execute_result"
    }
   ],
   "source": [
    "X_sub_train['work_type'].value_counts(\n",
    "    dropna = False\n",
    "    ,normalize = True\n",
    ")#.plot.barh()\n",
    "\n",
    "# --> The distribution seems realistic"
   ]
  },
  {
   "cell_type": "code",
   "execution_count": 1548,
   "metadata": {},
   "outputs": [
    {
     "data": {
      "text/plain": [
       "Urban    0.503312\n",
       "Rural    0.496688\n",
       "Name: Residence_type, dtype: float64"
      ]
     },
     "execution_count": 1548,
     "metadata": {},
     "output_type": "execute_result"
    }
   ],
   "source": [
    "X_sub_train['Residence_type'].value_counts(\n",
    "    dropna = False\n",
    "    ,normalize = True\n",
    ")#.plot.barh()\n",
    "\n",
    "# --> The distribution seems OK, although probably not from Israel (biased towards 'Rural')"
   ]
  },
  {
   "cell_type": "code",
   "execution_count": 1549,
   "metadata": {},
   "outputs": [
    {
     "data": {
      "text/html": [
       "<div>\n",
       "<style scoped>\n",
       "    .dataframe tbody tr th:only-of-type {\n",
       "        vertical-align: middle;\n",
       "    }\n",
       "\n",
       "    .dataframe tbody tr th {\n",
       "        vertical-align: top;\n",
       "    }\n",
       "\n",
       "    .dataframe thead th {\n",
       "        text-align: right;\n",
       "    }\n",
       "</style>\n",
       "<table border=\"1\" class=\"dataframe\">\n",
       "  <thead>\n",
       "    <tr style=\"text-align: right;\">\n",
       "      <th>hypertension</th>\n",
       "      <th>0</th>\n",
       "      <th>1</th>\n",
       "    </tr>\n",
       "    <tr>\n",
       "      <th>ever_married</th>\n",
       "      <th></th>\n",
       "      <th></th>\n",
       "    </tr>\n",
       "  </thead>\n",
       "  <tbody>\n",
       "    <tr>\n",
       "      <td>No</td>\n",
       "      <td>0.974972</td>\n",
       "      <td>0.025028</td>\n",
       "    </tr>\n",
       "    <tr>\n",
       "      <td>Yes</td>\n",
       "      <td>0.867897</td>\n",
       "      <td>0.132103</td>\n",
       "    </tr>\n",
       "  </tbody>\n",
       "</table>\n",
       "</div>"
      ],
      "text/plain": [
       "hypertension         0         1\n",
       "ever_married                    \n",
       "No            0.974972  0.025028\n",
       "Yes           0.867897  0.132103"
      ]
     },
     "execution_count": 1549,
     "metadata": {},
     "output_type": "execute_result"
    }
   ],
   "source": [
    "pd.crosstab(\n",
    "    X_sub_train['ever_married']\n",
    "    ,X_sub_train['hypertension']\n",
    "    ,dropna = False\n",
    "    ,normalize = 'index'\n",
    ")\n",
    "\n",
    "# Interesting..."
   ]
  },
  {
   "cell_type": "markdown",
   "metadata": {},
   "source": [
    "### Preliminary insights, questions and decisions"
   ]
  },
  {
   "cell_type": "markdown",
   "metadata": {},
   "source": [
    "Insights\n",
    "* __Age__: Min seems questionable yet OK\n",
    "* __gender__:                 \n",
    "* __Hypertension__: [Possibly stands for](https://en.wikipedia.org/wiki/Hypertension#:~:text=Hypertension%20(HTN%20or%20HT)%2C,typically%20does%20not%20cause%20symptoms.) \"HT / HTN / High Blood Pressure / HBP\"; The range seems like [0, 1], so probably boolean\n",
    "* __Heart_disease__: Probably boolean\n",
    "* __ever_married__: \n",
    "* __work_type__: \n",
    "* __Residence_type__: \n",
    "* __Avg_glucose_level__: Probably in [terms of](https://www.diabetes.co.uk/diabetes_care/blood-sugar-level-ranges.html) mg/dL rather than mmol/L; Levels above 200 may indicate diabetes\n",
    "* __bmi__: Body Mass Index, levels above 40 [indicate](https://en.wikipedia.org/wiki/Body_mass_index) Class III Obesity (Very severely obese), here we have much more; also 949 missing values (~3.4%)\n",
    "* __smoking_status__: 8,509 missing values (~30.6%)\n",
    "\n",
    "Questions\n",
    "* Are babies taken into account? Some values are really low\n",
    "\n",
    "Decisions\n",
    "* bmi: Clip at 40 (upper bound)\n",
    "* bmi: Remove missing values from the training set, impute in the validation & test sets using the training's median\n",
    "* smoking_status: Check if missing implies 'non-smoking'\n",
    "* All of the features have some variability (i.e., they are not constant), so none can be disqualified due to near-zero variance\n",
    "* The feature set is quite small and intuitively correlated with the target, so no feature selection is undertaken\n",
    "* __put all of the insights into a preprocessing function__\n"
   ]
  },
  {
   "cell_type": "code",
   "execution_count": 1550,
   "metadata": {},
   "outputs": [
    {
     "data": {
      "text/plain": [
       "never smoked       10272\n",
       "NaN                 8509\n",
       "formerly smoked     4814\n",
       "smokes              4181\n",
       "Name: smoking_status, dtype: int64"
      ]
     },
     "execution_count": 1550,
     "metadata": {},
     "output_type": "execute_result"
    }
   ],
   "source": [
    "# Distribution\n",
    "X_sub_train['smoking_status'].value_counts(dropna = False)"
   ]
  },
  {
   "cell_type": "code",
   "execution_count": 1551,
   "metadata": {},
   "outputs": [
    {
     "data": {
      "text/html": [
       "<div>\n",
       "<style scoped>\n",
       "    .dataframe tbody tr th:only-of-type {\n",
       "        vertical-align: middle;\n",
       "    }\n",
       "\n",
       "    .dataframe tbody tr th {\n",
       "        vertical-align: top;\n",
       "    }\n",
       "\n",
       "    .dataframe thead th {\n",
       "        text-align: right;\n",
       "    }\n",
       "</style>\n",
       "<table border=\"1\" class=\"dataframe\">\n",
       "  <thead>\n",
       "    <tr style=\"text-align: right;\">\n",
       "      <th></th>\n",
       "      <th>age</th>\n",
       "      <th>smoking_status</th>\n",
       "    </tr>\n",
       "  </thead>\n",
       "  <tbody>\n",
       "    <tr>\n",
       "      <td>34498</td>\n",
       "      <td>0.08</td>\n",
       "      <td>NaN</td>\n",
       "    </tr>\n",
       "    <tr>\n",
       "      <td>7837</td>\n",
       "      <td>0.08</td>\n",
       "      <td>NaN</td>\n",
       "    </tr>\n",
       "    <tr>\n",
       "      <td>25940</td>\n",
       "      <td>0.08</td>\n",
       "      <td>NaN</td>\n",
       "    </tr>\n",
       "    <tr>\n",
       "      <td>21869</td>\n",
       "      <td>0.08</td>\n",
       "      <td>NaN</td>\n",
       "    </tr>\n",
       "    <tr>\n",
       "      <td>4855</td>\n",
       "      <td>0.08</td>\n",
       "      <td>NaN</td>\n",
       "    </tr>\n",
       "    <tr>\n",
       "      <td>17933</td>\n",
       "      <td>0.08</td>\n",
       "      <td>NaN</td>\n",
       "    </tr>\n",
       "    <tr>\n",
       "      <td>20610</td>\n",
       "      <td>0.08</td>\n",
       "      <td>NaN</td>\n",
       "    </tr>\n",
       "    <tr>\n",
       "      <td>24294</td>\n",
       "      <td>0.08</td>\n",
       "      <td>NaN</td>\n",
       "    </tr>\n",
       "    <tr>\n",
       "      <td>36914</td>\n",
       "      <td>0.08</td>\n",
       "      <td>NaN</td>\n",
       "    </tr>\n",
       "    <tr>\n",
       "      <td>6493</td>\n",
       "      <td>0.08</td>\n",
       "      <td>NaN</td>\n",
       "    </tr>\n",
       "    <tr>\n",
       "      <td>28267</td>\n",
       "      <td>0.08</td>\n",
       "      <td>NaN</td>\n",
       "    </tr>\n",
       "    <tr>\n",
       "      <td>18430</td>\n",
       "      <td>0.08</td>\n",
       "      <td>NaN</td>\n",
       "    </tr>\n",
       "    <tr>\n",
       "      <td>34577</td>\n",
       "      <td>0.16</td>\n",
       "      <td>NaN</td>\n",
       "    </tr>\n",
       "    <tr>\n",
       "      <td>16675</td>\n",
       "      <td>0.16</td>\n",
       "      <td>NaN</td>\n",
       "    </tr>\n",
       "    <tr>\n",
       "      <td>10898</td>\n",
       "      <td>0.16</td>\n",
       "      <td>NaN</td>\n",
       "    </tr>\n",
       "  </tbody>\n",
       "</table>\n",
       "</div>"
      ],
      "text/plain": [
       "        age smoking_status\n",
       "34498  0.08            NaN\n",
       "7837   0.08            NaN\n",
       "25940  0.08            NaN\n",
       "21869  0.08            NaN\n",
       "4855   0.08            NaN\n",
       "17933  0.08            NaN\n",
       "20610  0.08            NaN\n",
       "24294  0.08            NaN\n",
       "36914  0.08            NaN\n",
       "6493   0.08            NaN\n",
       "28267  0.08            NaN\n",
       "18430  0.08            NaN\n",
       "34577  0.16            NaN\n",
       "16675  0.16            NaN\n",
       "10898  0.16            NaN"
      ]
     },
     "execution_count": 1551,
     "metadata": {},
     "output_type": "execute_result"
    }
   ],
   "source": [
    "# Look for unreal combinations, e.g., baby smokers\n",
    "X_sub_train[['age', 'smoking_status']].copy().sort_values(\n",
    "    by = 'age'\n",
    "    ,ascending = True\n",
    ").head(n = 15)"
   ]
  },
  {
   "cell_type": "code",
   "execution_count": 1552,
   "metadata": {},
   "outputs": [
    {
     "data": {
      "text/plain": [
       "(-0.00292, 8.272]    2542\n",
       "(8.272, 16.464]      1291\n",
       "(16.464, 24.656]      709\n",
       "(49.232, 57.424]      660\n",
       "(32.848, 41.04]       649\n",
       "(41.04, 49.232]       619\n",
       "(24.656, 32.848]      543\n",
       "(73.808, 82.0]        530\n",
       "(57.424, 65.616]      521\n",
       "(65.616, 73.808]      445\n",
       "Name: age, dtype: int64"
      ]
     },
     "execution_count": 1552,
     "metadata": {},
     "output_type": "execute_result"
    }
   ],
   "source": [
    "# What is the age distribution for unknown smoking status?\n",
    "X_sub_train[X_sub_train['smoking_status'].isnull()]['age'].value_counts(bins=10)"
   ]
  },
  {
   "cell_type": "code",
   "execution_count": 1553,
   "metadata": {},
   "outputs": [
    {
     "data": {
      "text/plain": [
       "Index(['id', 'gender', 'age', 'hypertension', 'heart_disease', 'ever_married',\n",
       "       'work_type', 'Residence_type', 'avg_glucose_level', 'bmi',\n",
       "       'smoking_status'],\n",
       "      dtype='object')"
      ]
     },
     "execution_count": 1553,
     "metadata": {},
     "output_type": "execute_result"
    }
   ],
   "source": [
    "X_sub_train.columns"
   ]
  },
  {
   "cell_type": "markdown",
   "metadata": {},
   "source": [
    "### Parameters for preprocessing"
   ]
  },
  {
   "cell_type": "code",
   "execution_count": 1554,
   "metadata": {},
   "outputs": [],
   "source": [
    "BMI_MAX = 40 # for upper clipping\n",
    "BMI_MEDIAN = X_sub_train['bmi'].median(skipna = True) # for imputing missing values\n",
    "MAX_AGE_FOR_YOUNG = 15\n",
    "\n",
    "CATEGORICAL_FEATURES_TO_ENCODE = ['gender', 'work_type', 'Residence_type', 'smoking_status']\n",
    "CONTINUOUS_FEATURES_TO_SCALE = ['age', 'avg_glucose_level', 'bmi']\n",
    "BOOLEAN_FEATURES = ['hypertension', 'heart_disease', 'ever_married']"
   ]
  },
  {
   "cell_type": "markdown",
   "metadata": {},
   "source": [
    "### Young persons have most probably never really smoked, others are added to a new 'unknown' category"
   ]
  },
  {
   "cell_type": "code",
   "execution_count": 1555,
   "metadata": {},
   "outputs": [],
   "source": [
    "def replace_missing_smoking_status(x):\n",
    "    if pd.isna(x['smoking_status']):\n",
    "        if x['age'] < MAX_AGE_FOR_YOUNG:\n",
    "            return 'never smoked'\n",
    "        else:\n",
    "            return 'unknown'\n",
    "    else:\n",
    "        return x['smoking_status']"
   ]
  },
  {
   "cell_type": "markdown",
   "metadata": {},
   "source": [
    "## Function to preprocess a dataset"
   ]
  },
  {
   "cell_type": "code",
   "execution_count": 1556,
   "metadata": {},
   "outputs": [],
   "source": [
    "def preprocess_dataset(df_x, df_y, partition_type):\n",
    "    \n",
    "    # Remove the 'id' column\n",
    "    df_x = df_x.drop(\n",
    "        labels = ['id']\n",
    "        ,axis = 1\n",
    "        ,inplace = False\n",
    "    )\n",
    "    \n",
    "    # Clip the BMI at 40 (upper bound)\n",
    "    df_x['bmi'] = df_x['bmi'].clip(\n",
    "        upper = BMI_MAX\n",
    "        ,inplace = False\n",
    "    )\n",
    "    \n",
    "    # Convert to boolean - predictors\n",
    "    df_x['hypertension'] = pd.Series(df_x['hypertension'] == 1)\n",
    "    df_x['heart_disease'] = pd.Series(df_x['heart_disease'] == 1)\n",
    "    df_x['ever_married'] = pd.Series(df_x['ever_married'] == 'Yes')\n",
    "    \n",
    "    # Convert to boolean - Stroke (class)\n",
    "    df_y = pd.Series(df_y == 1)\n",
    "    \n",
    "    # Handle missing values\n",
    "    \n",
    "    # Smoking status\n",
    "    df_x['smoking_status'] = df_x.apply(replace_missing_smoking_status, axis=1)\n",
    "    \n",
    "    # BMI\n",
    "    if (partition_type == 'training'):\n",
    "        df_y = df_y[df_x['bmi'].notnull()] # first drop from y\n",
    "        df_x = df_x[df_x['bmi'].notnull()] # then drop from X\n",
    "    else: # validation or test sets\n",
    "        df_x['bmi'].fillna(\n",
    "            value = BMI_MEDIAN\n",
    "            ,inplace = True\n",
    "        )\n",
    "        \n",
    "    return df_x, df_y"
   ]
  },
  {
   "cell_type": "code",
   "execution_count": 1557,
   "metadata": {},
   "outputs": [],
   "source": [
    "# dx = X_sub_train.copy()\n",
    "# dy = y_sub_train.copy()"
   ]
  },
  {
   "cell_type": "code",
   "execution_count": 1558,
   "metadata": {},
   "outputs": [],
   "source": [
    "# dx.info() # Identify features with missing values"
   ]
  },
  {
   "cell_type": "code",
   "execution_count": 1559,
   "metadata": {},
   "outputs": [],
   "source": [
    "# dx, dy = preprocess_dataset(dx, dy, 'training')"
   ]
  },
  {
   "cell_type": "code",
   "execution_count": 1560,
   "metadata": {},
   "outputs": [],
   "source": [
    "# dx.info() # Identify features with missing values"
   ]
  },
  {
   "cell_type": "code",
   "execution_count": 1561,
   "metadata": {},
   "outputs": [],
   "source": [
    "# dx.head()#['smoking_status'].value_counts(dropna = False)"
   ]
  },
  {
   "cell_type": "code",
   "execution_count": 1562,
   "metadata": {},
   "outputs": [],
   "source": [
    "# OneHotEncoder().fit_transform(dx)"
   ]
  },
  {
   "cell_type": "markdown",
   "metadata": {},
   "source": [
    "# Training"
   ]
  },
  {
   "cell_type": "code",
   "execution_count": 1563,
   "metadata": {},
   "outputs": [],
   "source": [
    "# Preprocess the training set\n",
    "X_sub_train, y_sub_train = preprocess_dataset(X_sub_train, y_sub_train, 'training')"
   ]
  },
  {
   "cell_type": "code",
   "execution_count": 1564,
   "metadata": {},
   "outputs": [
    {
     "name": "stdout",
     "output_type": "stream",
     "text": [
      "<class 'pandas.core.frame.DataFrame'>\n",
      "Int64Index: 26827 entries, 19365 to 25821\n",
      "Data columns (total 10 columns):\n",
      "gender               26827 non-null object\n",
      "age                  26827 non-null float64\n",
      "hypertension         26827 non-null bool\n",
      "heart_disease        26827 non-null bool\n",
      "ever_married         26827 non-null bool\n",
      "work_type            26827 non-null object\n",
      "Residence_type       26827 non-null object\n",
      "avg_glucose_level    26827 non-null float64\n",
      "bmi                  26827 non-null float64\n",
      "smoking_status       26827 non-null object\n",
      "dtypes: bool(3), float64(3), object(4)\n",
      "memory usage: 1.7+ MB\n"
     ]
    }
   ],
   "source": [
    "# Validate expected changes\n",
    "X_sub_train.info()"
   ]
  },
  {
   "cell_type": "markdown",
   "metadata": {},
   "source": [
    "## Prepare the training set for LightGBM"
   ]
  },
  {
   "cell_type": "code",
   "execution_count": 1565,
   "metadata": {},
   "outputs": [],
   "source": [
    "# labels\n",
    "y_sub_train_LGBM = y_sub_train.values\n",
    "\n",
    "# Predictors\n",
    "\n",
    "lb_gender = LabelEncoder()\n",
    "lb_work_type = LabelEncoder()\n",
    "lb_Residence_type = LabelEncoder()\n",
    "lb_smoking_status = LabelEncoder()\n",
    "X_sub_train['gender'] = lb_gender.fit_transform(X_sub_train['gender'])\n",
    "X_sub_train['work_type'] = lb_work_type.fit_transform(X_sub_train['work_type'])\n",
    "X_sub_train['Residence_type'] = lb_Residence_type.fit_transform(X_sub_train['Residence_type'])\n",
    "X_sub_train['smoking_status'] = lb_smoking_status.fit_transform(X_sub_train['smoking_status'])\n",
    "\n",
    "# Change the type: Boolean to int\n",
    "for col in BOOLEAN_FEATURES:\n",
    "    X_sub_train[col] = 1 * X_sub_train[col]\n",
    "    \n",
    "X_sub_train_LGBM = X_sub_train.values\n",
    "\n",
    "# LGBM-format dataset\n",
    "train_data_LGBM = lgbm.Dataset(\n",
    "    X_sub_train_LGBM\n",
    "    ,label=y_sub_train_LGBM\n",
    "    ,categorical_feature= CATEGORICAL_FEATURES_TO_ENCODE + BOOLEAN_FEATURES\n",
    "    ,feature_name = X_sub_train.columns.tolist()\n",
    ")"
   ]
  },
  {
   "cell_type": "markdown",
   "metadata": {},
   "source": [
    "## Prepare the validation set for LightGBM"
   ]
  },
  {
   "cell_type": "code",
   "execution_count": 1566,
   "metadata": {},
   "outputs": [],
   "source": [
    "X_validation, y_validation = preprocess_dataset(X_validation, y_validation, 'validation')"
   ]
  },
  {
   "cell_type": "code",
   "execution_count": 1567,
   "metadata": {},
   "outputs": [],
   "source": [
    "# labels\n",
    "y_validation_LGBM = y_validation.values\n",
    "\n",
    "# Predictors\n",
    "X_validation['gender'] = lb_gender.transform(X_validation['gender'])\n",
    "X_validation['work_type'] = lb_work_type.transform(X_validation['work_type'])\n",
    "X_validation['Residence_type'] = lb_Residence_type.transform(X_validation['Residence_type'])\n",
    "X_validation['smoking_status'] = lb_smoking_status.transform(X_validation['smoking_status'])\n",
    "\n",
    "# Change the type: Boolean to int\n",
    "for col in BOOLEAN_FEATURES:\n",
    "    X_validation[col] = 1 * X_validation[col]\n",
    "\n",
    "X_validation_LGBM = X_validation.values\n",
    "\n",
    "# LGBM-format dataset\n",
    "validation_data_LGBM = lgbm.Dataset(\n",
    "    X_validation_LGBM\n",
    "    ,label=y_validation_LGBM\n",
    "    ,reference = train_data_LGBM\n",
    "    ,categorical_feature = CATEGORICAL_FEATURES_TO_ENCODE + BOOLEAN_FEATURES\n",
    "    ,feature_name = X_validation.columns.tolist()\n",
    ")"
   ]
  },
  {
   "cell_type": "markdown",
   "metadata": {},
   "source": [
    "## Train a default LGBM classifier"
   ]
  },
  {
   "cell_type": "code",
   "execution_count": 1568,
   "metadata": {},
   "outputs": [
    {
     "name": "stderr",
     "output_type": "stream",
     "text": [
      "C:\\Users\\Administrator\\Anaconda3\\lib\\site-packages\\lightgbm\\basic.py:1291: UserWarning: Using categorical_feature in Dataset.\n",
      "  warnings.warn('Using categorical_feature in Dataset.')\n"
     ]
    },
    {
     "name": "stdout",
     "output_type": "stream",
     "text": [
      "[1]\tvalid_0's auc: 0.799723\n",
      "Training until validation scores don't improve for 100 rounds\n",
      "[2]\tvalid_0's auc: 0.812038\n",
      "[3]\tvalid_0's auc: 0.821848\n",
      "[4]\tvalid_0's auc: 0.824964\n",
      "[5]\tvalid_0's auc: 0.822916\n",
      "[6]\tvalid_0's auc: 0.818968\n",
      "[7]\tvalid_0's auc: 0.817931\n",
      "[8]\tvalid_0's auc: 0.818452\n",
      "[9]\tvalid_0's auc: 0.819737\n",
      "[10]\tvalid_0's auc: 0.821218\n",
      "[11]\tvalid_0's auc: 0.820026\n",
      "[12]\tvalid_0's auc: 0.819014\n",
      "[13]\tvalid_0's auc: 0.816338\n",
      "[14]\tvalid_0's auc: 0.817788\n",
      "[15]\tvalid_0's auc: 0.81752\n",
      "[16]\tvalid_0's auc: 0.817108\n",
      "[17]\tvalid_0's auc: 0.817204\n",
      "[18]\tvalid_0's auc: 0.816966\n",
      "[19]\tvalid_0's auc: 0.818275\n",
      "[20]\tvalid_0's auc: 0.818843\n",
      "[21]\tvalid_0's auc: 0.817039\n",
      "[22]\tvalid_0's auc: 0.81701\n",
      "[23]\tvalid_0's auc: 0.817024\n",
      "[24]\tvalid_0's auc: 0.817257\n",
      "[25]\tvalid_0's auc: 0.817872\n",
      "[26]\tvalid_0's auc: 0.817966\n",
      "[27]\tvalid_0's auc: 0.818857\n",
      "[28]\tvalid_0's auc: 0.819325\n",
      "[29]\tvalid_0's auc: 0.818896\n",
      "[30]\tvalid_0's auc: 0.819904\n",
      "[31]\tvalid_0's auc: 0.819768\n",
      "[32]\tvalid_0's auc: 0.818558\n",
      "[33]\tvalid_0's auc: 0.817071\n",
      "[34]\tvalid_0's auc: 0.817337\n",
      "[35]\tvalid_0's auc: 0.817237\n",
      "[36]\tvalid_0's auc: 0.816964\n",
      "[37]\tvalid_0's auc: 0.817557\n",
      "[38]\tvalid_0's auc: 0.817742\n",
      "[39]\tvalid_0's auc: 0.818029\n",
      "[40]\tvalid_0's auc: 0.818917\n",
      "[41]\tvalid_0's auc: 0.820051\n",
      "[42]\tvalid_0's auc: 0.820296\n",
      "[43]\tvalid_0's auc: 0.819391\n",
      "[44]\tvalid_0's auc: 0.819919\n",
      "[45]\tvalid_0's auc: 0.820719\n",
      "[46]\tvalid_0's auc: 0.820688\n",
      "[47]\tvalid_0's auc: 0.82079\n",
      "[48]\tvalid_0's auc: 0.820944\n",
      "[49]\tvalid_0's auc: 0.820819\n",
      "[50]\tvalid_0's auc: 0.820679\n",
      "[51]\tvalid_0's auc: 0.821296\n",
      "[52]\tvalid_0's auc: 0.82148\n",
      "[53]\tvalid_0's auc: 0.820124\n",
      "[54]\tvalid_0's auc: 0.819879\n",
      "[55]\tvalid_0's auc: 0.818932\n",
      "[56]\tvalid_0's auc: 0.818058\n",
      "[57]\tvalid_0's auc: 0.817312\n",
      "[58]\tvalid_0's auc: 0.817674\n",
      "[59]\tvalid_0's auc: 0.816789\n",
      "[60]\tvalid_0's auc: 0.816022\n",
      "[61]\tvalid_0's auc: 0.81587\n",
      "[62]\tvalid_0's auc: 0.815939\n",
      "[63]\tvalid_0's auc: 0.816065\n",
      "[64]\tvalid_0's auc: 0.815929\n",
      "[65]\tvalid_0's auc: 0.816478\n",
      "[66]\tvalid_0's auc: 0.816844\n",
      "[67]\tvalid_0's auc: 0.817322\n",
      "[68]\tvalid_0's auc: 0.817983\n",
      "[69]\tvalid_0's auc: 0.817937\n",
      "[70]\tvalid_0's auc: 0.817711\n",
      "[71]\tvalid_0's auc: 0.816976\n",
      "[72]\tvalid_0's auc: 0.817684\n",
      "[73]\tvalid_0's auc: 0.817973\n",
      "[74]\tvalid_0's auc: 0.81579\n",
      "[75]\tvalid_0's auc: 0.81606\n",
      "[76]\tvalid_0's auc: 0.816113\n",
      "[77]\tvalid_0's auc: 0.817114\n",
      "[78]\tvalid_0's auc: 0.816896\n",
      "[79]\tvalid_0's auc: 0.816485\n",
      "[80]\tvalid_0's auc: 0.81608\n",
      "[81]\tvalid_0's auc: 0.816223\n",
      "[82]\tvalid_0's auc: 0.816533\n",
      "[83]\tvalid_0's auc: 0.816436\n",
      "[84]\tvalid_0's auc: 0.816567\n",
      "[85]\tvalid_0's auc: 0.816771\n",
      "[86]\tvalid_0's auc: 0.815931\n",
      "[87]\tvalid_0's auc: 0.816261\n",
      "[88]\tvalid_0's auc: 0.816722\n",
      "[89]\tvalid_0's auc: 0.817125\n",
      "[90]\tvalid_0's auc: 0.817594\n",
      "[91]\tvalid_0's auc: 0.817916\n",
      "[92]\tvalid_0's auc: 0.818039\n",
      "[93]\tvalid_0's auc: 0.818284\n",
      "[94]\tvalid_0's auc: 0.818191\n",
      "[95]\tvalid_0's auc: 0.818602\n",
      "[96]\tvalid_0's auc: 0.818067\n",
      "[97]\tvalid_0's auc: 0.818217\n",
      "[98]\tvalid_0's auc: 0.81872\n",
      "[99]\tvalid_0's auc: 0.818287\n",
      "[100]\tvalid_0's auc: 0.81708\n",
      "Did not meet early stopping. Best iteration is:\n",
      "[4]\tvalid_0's auc: 0.824964\n"
     ]
    }
   ],
   "source": [
    "LGBM_default_model = lgbm.train(\n",
    "    {\n",
    "        'application': 'binary',\n",
    "        'objective': 'binary',\n",
    "        'metric': 'auc', #'map', # mean_average_precision, ~AUPRC #'auc',\n",
    "        'is_unbalance': 'true',\n",
    "#         'boosting': 'gbdt',\n",
    "#         'num_leaves': 31,\n",
    "#         'feature_fraction': 0.5, # default 1.0 # speed, over-fitting\n",
    "#         'bagging_fraction': 0.5, # default 1.0 # speed, over-fitting\n",
    "#         'bagging_freq': 20, # default 0 (disable), k means perform bagging at every k iteration\n",
    "#         'learning_rate': 0.05, # default 0.1\n",
    "#         'min_data_in_leaf': 100, # consider adding # over-fitting\n",
    "#         'extra_trees': True, # consider adding # over-fitting\n",
    "        'verbose': 0\n",
    "    },\n",
    "    train_data_LGBM,\n",
    "    valid_sets=validation_data_LGBM,\n",
    "#     num_boost_round=5000, # default 100 (number of trees)\n",
    "    early_stopping_rounds=100\n",
    ")"
   ]
  },
  {
   "cell_type": "markdown",
   "metadata": {},
   "source": [
    "## Prepare the test set for LightGBM"
   ]
  },
  {
   "cell_type": "code",
   "execution_count": 1569,
   "metadata": {},
   "outputs": [],
   "source": [
    "X_test, y_test = preprocess_dataset(X_test, y_test, 'test')"
   ]
  },
  {
   "cell_type": "code",
   "execution_count": 1570,
   "metadata": {},
   "outputs": [],
   "source": [
    "# labels\n",
    "y_test_LGBM = y_test.values\n",
    "\n",
    "# Predictors\n",
    "X_test['gender'] = lb_gender.transform(X_test['gender'])\n",
    "X_test['work_type'] = lb_work_type.transform(X_test['work_type'])\n",
    "X_test['Residence_type'] = lb_Residence_type.transform(X_test['Residence_type'])\n",
    "X_test['smoking_status'] = lb_smoking_status.transform(X_test['smoking_status'])\n",
    "\n",
    "# Change the type: Boolean to int\n",
    "for col in BOOLEAN_FEATURES:\n",
    "    X_test[col] = 1 * X_test[col]\n",
    "\n",
    "X_test_LGBM = X_test.values\n",
    "\n",
    "# LGBM-format dataset\n",
    "test_data_LGBM = lgbm.Dataset(\n",
    "    X_test_LGBM\n",
    "    ,label=y_test_LGBM\n",
    "    ,reference = train_data_LGBM\n",
    "    ,categorical_feature = CATEGORICAL_FEATURES_TO_ENCODE + BOOLEAN_FEATURES\n",
    "    ,feature_name = X_test.columns.tolist()\n",
    ")"
   ]
  },
  {
   "cell_type": "markdown",
   "metadata": {},
   "source": [
    "## Test the LightGBM default classifier"
   ]
  },
  {
   "cell_type": "code",
   "execution_count": 1571,
   "metadata": {},
   "outputs": [
    {
     "data": {
      "image/png": "[encoded data removed]",
      "text/plain": [
       "<Figure size 432x288 with 1 Axes>"
      ]
     },
     "metadata": {
      "needs_background": "light"
     },
     "output_type": "display_data"
    }
   ],
   "source": [
    "LGBM_default_precision, LGBM_default_recall, _ = precision_recall_curve(\n",
    "    y_test\n",
    "    ,LGBM_default_model.predict(X_test_LGBM)\n",
    ")\n",
    "\n",
    "plt.plot(LGBM_default_recall, LGBM_default_precision, marker='.', label=\n",
    "         'LGBM_default, AUPRC = ' +\\\n",
    "         str(round(average_precision_score(y_test, LGBM_default_model.predict(X_test_LGBM)),3))\n",
    "        )\n",
    "plt.xlabel('Recall')\n",
    "plt.ylabel('Precision')\n",
    "plt.legend()\n",
    "plt.show()"
   ]
  },
  {
   "cell_type": "markdown",
   "metadata": {},
   "source": [
    "### The performance is very poor, maybe due to the extreme class imbalance"
   ]
  },
  {
   "cell_type": "markdown",
   "metadata": {},
   "source": [
    "# Train another LGBM model, based on a resampled (balanced) training set"
   ]
  },
  {
   "cell_type": "code",
   "execution_count": 1572,
   "metadata": {},
   "outputs": [
    {
     "data": {
      "text/plain": [
       "False    26432\n",
       "True       395\n",
       "Name: stroke, dtype: int64"
      ]
     },
     "execution_count": 1572,
     "metadata": {},
     "output_type": "execute_result"
    }
   ],
   "source": [
    "y_sub_train.value_counts()"
   ]
  },
  {
   "cell_type": "code",
   "execution_count": 1573,
   "metadata": {},
   "outputs": [
    {
     "data": {
      "text/plain": [
       "True     26432\n",
       "False    26432\n",
       "Name: stroke, dtype: int64"
      ]
     },
     "execution_count": 1573,
     "metadata": {},
     "output_type": "execute_result"
    }
   ],
   "source": [
    "# Concat X and y for later resampling\n",
    "X_y_sub_train = pd.concat(\n",
    "    [X_sub_train, y_sub_train]\n",
    "    ,axis = 1\n",
    "    ,sort = False\n",
    ")\n",
    "\n",
    "# Concat all 'False' and resampled 'True' training instances\n",
    "X_y_sub_train = pd.concat(\n",
    "    [\n",
    "        X_y_sub_train[X_y_sub_train['stroke']==False]\n",
    "        ,X_y_sub_train[X_y_sub_train['stroke']==True].sample(\n",
    "            n = 26432\n",
    "            ,replace = True\n",
    "            ,random_state = PRM_RND\n",
    "        )\n",
    "    ]\n",
    "    ,axis = 0\n",
    "    ,sort = False\n",
    ")\n",
    "\n",
    "# Validate the class distribution\n",
    "X_y_sub_train['stroke'].value_counts()"
   ]
  },
  {
   "cell_type": "code",
   "execution_count": 1574,
   "metadata": {},
   "outputs": [],
   "source": [
    "# Separate class from predictors\n",
    "y_train_SAM = X_y_sub_train['stroke']\n",
    "X_train_SAM = X_y_sub_train.drop('stroke', axis=1)\n",
    "\n",
    "# labels\n",
    "y_train_SAM_LGBM = y_train_SAM.values\n",
    "\n",
    "# # Predictors\n",
    "# X_train_SAM['gender'] = lb_gender.transform(X_train_SAM['gender'])\n",
    "# X_train_SAM['work_type'] = lb_work_type.transform(X_train_SAM['work_type'])\n",
    "# X_train_SAM['Residence_type'] = lb_Residence_type.transform(X_train_SAM['Residence_type'])\n",
    "# X_train_SAM['smoking_status'] = lb_smoking_status.transform(X_train_SAM['smoking_status'])\n",
    "\n",
    "# Change the type: Boolean to int\n",
    "# for col in BOOLEAN_FEATURES:\n",
    "#     X_train_SAM[col] = 1 * X_train_SAM[col]\n",
    "\n",
    "X_train_SAM_LGBM = X_train_SAM.values\n",
    "\n",
    "# LGBM-format dataset\n",
    "train_data_SAM_LGBM = lgbm.Dataset(\n",
    "    X_train_SAM_LGBM\n",
    "    ,label=y_train_SAM_LGBM\n",
    "    ,reference = train_data_LGBM\n",
    "    ,categorical_feature = CATEGORICAL_FEATURES_TO_ENCODE + BOOLEAN_FEATURES\n",
    "    ,feature_name = X_train_SAM.columns.tolist()\n",
    ")"
   ]
  },
  {
   "cell_type": "code",
   "execution_count": 1575,
   "metadata": {},
   "outputs": [
    {
     "name": "stderr",
     "output_type": "stream",
     "text": [
      "C:\\Users\\Administrator\\Anaconda3\\lib\\site-packages\\lightgbm\\basic.py:1291: UserWarning: Using categorical_feature in Dataset.\n",
      "  warnings.warn('Using categorical_feature in Dataset.')\n"
     ]
    },
    {
     "name": "stdout",
     "output_type": "stream",
     "text": [
      "[1]\tvalid_0's auc: 0.795695\n",
      "Training until validation scores don't improve for 100 rounds\n",
      "[2]\tvalid_0's auc: 0.817538\n",
      "[3]\tvalid_0's auc: 0.826344\n",
      "[4]\tvalid_0's auc: 0.827478\n",
      "[5]\tvalid_0's auc: 0.832431\n",
      "[6]\tvalid_0's auc: 0.833378\n",
      "[7]\tvalid_0's auc: 0.833029\n",
      "[8]\tvalid_0's auc: 0.832824\n",
      "[9]\tvalid_0's auc: 0.837619\n",
      "[10]\tvalid_0's auc: 0.835576\n",
      "[11]\tvalid_0's auc: 0.834992\n",
      "[12]\tvalid_0's auc: 0.835835\n",
      "[13]\tvalid_0's auc: 0.834842\n",
      "[14]\tvalid_0's auc: 0.835569\n",
      "[15]\tvalid_0's auc: 0.837078\n",
      "[16]\tvalid_0's auc: 0.836419\n",
      "[17]\tvalid_0's auc: 0.837281\n",
      "[18]\tvalid_0's auc: 0.837268\n",
      "[19]\tvalid_0's auc: 0.83656\n",
      "[20]\tvalid_0's auc: 0.836449\n",
      "[21]\tvalid_0's auc: 0.835202\n",
      "[22]\tvalid_0's auc: 0.835414\n",
      "[23]\tvalid_0's auc: 0.832658\n",
      "[24]\tvalid_0's auc: 0.832941\n",
      "[25]\tvalid_0's auc: 0.833105\n",
      "[26]\tvalid_0's auc: 0.832925\n",
      "[27]\tvalid_0's auc: 0.833407\n",
      "[28]\tvalid_0's auc: 0.833902\n",
      "[29]\tvalid_0's auc: 0.831549\n",
      "[30]\tvalid_0's auc: 0.830466\n",
      "[31]\tvalid_0's auc: 0.828687\n",
      "[32]\tvalid_0's auc: 0.828262\n",
      "[33]\tvalid_0's auc: 0.828246\n",
      "[34]\tvalid_0's auc: 0.827898\n",
      "[35]\tvalid_0's auc: 0.826304\n",
      "[36]\tvalid_0's auc: 0.826095\n",
      "[37]\tvalid_0's auc: 0.825618\n",
      "[38]\tvalid_0's auc: 0.824432\n",
      "[39]\tvalid_0's auc: 0.825373\n",
      "[40]\tvalid_0's auc: 0.825531\n",
      "[41]\tvalid_0's auc: 0.82508\n",
      "[42]\tvalid_0's auc: 0.825927\n",
      "[43]\tvalid_0's auc: 0.82586\n",
      "[44]\tvalid_0's auc: 0.82557\n",
      "[45]\tvalid_0's auc: 0.825177\n",
      "[46]\tvalid_0's auc: 0.824703\n",
      "[47]\tvalid_0's auc: 0.824811\n",
      "[48]\tvalid_0's auc: 0.824635\n",
      "[49]\tvalid_0's auc: 0.824101\n",
      "[50]\tvalid_0's auc: 0.824465\n",
      "[51]\tvalid_0's auc: 0.82431\n",
      "[52]\tvalid_0's auc: 0.824196\n",
      "[53]\tvalid_0's auc: 0.823435\n",
      "[54]\tvalid_0's auc: 0.823803\n",
      "[55]\tvalid_0's auc: 0.824058\n",
      "[56]\tvalid_0's auc: 0.822673\n",
      "[57]\tvalid_0's auc: 0.822629\n",
      "[58]\tvalid_0's auc: 0.82093\n",
      "[59]\tvalid_0's auc: 0.820778\n",
      "[60]\tvalid_0's auc: 0.820404\n",
      "[61]\tvalid_0's auc: 0.820657\n",
      "[62]\tvalid_0's auc: 0.821128\n",
      "[63]\tvalid_0's auc: 0.820904\n",
      "[64]\tvalid_0's auc: 0.821727\n",
      "[65]\tvalid_0's auc: 0.821129\n",
      "[66]\tvalid_0's auc: 0.820979\n",
      "[67]\tvalid_0's auc: 0.820261\n",
      "[68]\tvalid_0's auc: 0.821597\n",
      "[69]\tvalid_0's auc: 0.821645\n",
      "[70]\tvalid_0's auc: 0.821044\n",
      "[71]\tvalid_0's auc: 0.822325\n",
      "[72]\tvalid_0's auc: 0.822333\n",
      "[73]\tvalid_0's auc: 0.821555\n",
      "[74]\tvalid_0's auc: 0.821114\n",
      "[75]\tvalid_0's auc: 0.821054\n",
      "[76]\tvalid_0's auc: 0.820116\n",
      "[77]\tvalid_0's auc: 0.818806\n",
      "[78]\tvalid_0's auc: 0.818178\n",
      "[79]\tvalid_0's auc: 0.819014\n",
      "[80]\tvalid_0's auc: 0.818726\n",
      "[81]\tvalid_0's auc: 0.818188\n",
      "[82]\tvalid_0's auc: 0.818026\n",
      "[83]\tvalid_0's auc: 0.818963\n",
      "[84]\tvalid_0's auc: 0.817467\n",
      "[85]\tvalid_0's auc: 0.818128\n",
      "[86]\tvalid_0's auc: 0.816752\n",
      "[87]\tvalid_0's auc: 0.816828\n",
      "[88]\tvalid_0's auc: 0.816813\n",
      "[89]\tvalid_0's auc: 0.816179\n",
      "[90]\tvalid_0's auc: 0.816363\n",
      "[91]\tvalid_0's auc: 0.81523\n",
      "[92]\tvalid_0's auc: 0.814812\n",
      "[93]\tvalid_0's auc: 0.815866\n",
      "[94]\tvalid_0's auc: 0.815991\n",
      "[95]\tvalid_0's auc: 0.815763\n",
      "[96]\tvalid_0's auc: 0.815812\n",
      "[97]\tvalid_0's auc: 0.815834\n",
      "[98]\tvalid_0's auc: 0.81606\n",
      "[99]\tvalid_0's auc: 0.815348\n",
      "[100]\tvalid_0's auc: 0.815866\n",
      "Did not meet early stopping. Best iteration is:\n",
      "[9]\tvalid_0's auc: 0.837619\n"
     ]
    }
   ],
   "source": [
    "LGBM_SAM_model = lgbm.train(\n",
    "    {\n",
    "        'application': 'binary',\n",
    "        'objective': 'binary',\n",
    "        'metric': 'auc', #'map', # mean_average_precision, ~AUPRC #'auc',\n",
    "        'is_unbalance': 'false',\n",
    "#         'boosting': 'gbdt',\n",
    "#         'num_leaves': 31,\n",
    "#         'feature_fraction': 0.5, # default 1.0 # speed, over-fitting\n",
    "#         'bagging_fraction': 0.5, # default 1.0 # speed, over-fitting\n",
    "#         'bagging_freq': 20, # default 0 (disable), k means perform bagging at every k iteration\n",
    "#         'learning_rate': 0.05, # default 0.1\n",
    "#         'min_data_in_leaf': 100, # consider adding # over-fitting\n",
    "#         'extra_trees': True, # consider adding # over-fitting\n",
    "        'verbose': 0\n",
    "    },\n",
    "    train_data_SAM_LGBM,\n",
    "    valid_sets=validation_data_LGBM,\n",
    "#     num_boost_round=5000,\n",
    "    early_stopping_rounds=100\n",
    ")"
   ]
  },
  {
   "cell_type": "code",
   "execution_count": 1576,
   "metadata": {},
   "outputs": [
    {
     "data": {
      "image/png": "[encoded data removed]",
      "text/plain": [
       "<Figure size 432x288 with 1 Axes>"
      ]
     },
     "metadata": {
      "needs_background": "light"
     },
     "output_type": "display_data"
    }
   ],
   "source": [
    "LGBM_SAM_precision, LGBM_SAM_recall, _ = precision_recall_curve(\n",
    "    y_test\n",
    "    ,LGBM_SAM_model.predict(X_test_LGBM)\n",
    ")\n",
    "\n",
    "plt.plot(LGBM_SAM_recall, LGBM_SAM_precision, marker='.', label=\n",
    "         'LGBM_resampled, AUPRC = ' +\\\n",
    "         str(round(average_precision_score(y_test, LGBM_SAM_model.predict(X_test_LGBM)),3))\n",
    "        )\n",
    "plt.plot(LGBM_default_recall, LGBM_default_precision, marker='.', label=\n",
    "         'LGBM_default, AUPRC = ' +\\\n",
    "         str(round(average_precision_score(y_test, LGBM_default_model.predict(X_test_LGBM)),3))\n",
    "        )\n",
    "plt.xlabel('Recall')\n",
    "plt.ylabel('Precision')\n",
    "plt.legend()\n",
    "plt.show()"
   ]
  },
  {
   "cell_type": "markdown",
   "metadata": {},
   "source": [
    "### The performance is slightly better yet very poor, maybe due to model overfitting"
   ]
  },
  {
   "cell_type": "code",
   "execution_count": 1577,
   "metadata": {},
   "outputs": [
    {
     "data": {
      "image/png": "[encoded data removed]",
      "text/plain": [
       "<Figure size 432x288 with 1 Axes>"
      ]
     },
     "metadata": {
      "needs_background": "light"
     },
     "output_type": "display_data"
    }
   ],
   "source": [
    "LGBM_validation_precision, LGBM_validation_recall, _ = precision_recall_curve(\n",
    "    y_validation\n",
    "    ,LGBM_default_model.predict(X_validation_LGBM)\n",
    ")\n",
    "\n",
    "plt.plot(LGBM_validation_recall, LGBM_validation_precision, marker='.', label=\n",
    "         'LGBM_validation, AUPRC = ' +\\\n",
    "         str(round(average_precision_score(y_validation, LGBM_SAM_model.predict(X_validation_LGBM)),3))\n",
    "        )\n",
    "plt.plot(LGBM_SAM_recall, LGBM_SAM_precision, marker='.', label=\n",
    "         'LGBM_resampled, AUPRC = ' +\\\n",
    "         str(round(average_precision_score(y_test, LGBM_SAM_model.predict(X_test_LGBM)),3))\n",
    "        )\n",
    "plt.plot(LGBM_default_recall, LGBM_default_precision, marker='.', label=\n",
    "         'LGBM_default, AUPRC = ' +\\\n",
    "         str(round(average_precision_score(y_test, LGBM_default_model.predict(X_test_LGBM)),3))\n",
    "        )\n",
    "plt.xlabel('Recall')\n",
    "plt.ylabel('Precision')\n",
    "plt.legend()\n",
    "plt.show()"
   ]
  },
  {
   "cell_type": "markdown",
   "metadata": {},
   "source": [
    "### The performance is slightly better on the validation set yet very poor, maybe hyper-parameter tuning would assist"
   ]
  },
  {
   "cell_type": "code",
   "execution_count": null,
   "metadata": {},
   "outputs": [],
   "source": []
  },
  {
   "cell_type": "code",
   "execution_count": null,
   "metadata": {},
   "outputs": [],
   "source": []
  },
  {
   "cell_type": "code",
   "execution_count": null,
   "metadata": {},
   "outputs": [],
   "source": []
  },
  {
   "cell_type": "code",
   "execution_count": null,
   "metadata": {},
   "outputs": [],
   "source": []
  },
  {
   "cell_type": "code",
   "execution_count": null,
   "metadata": {},
   "outputs": [],
   "source": []
  },
  {
   "cell_type": "code",
   "execution_count": null,
   "metadata": {},
   "outputs": [],
   "source": []
  },
  {
   "cell_type": "code",
   "execution_count": null,
   "metadata": {},
   "outputs": [],
   "source": []
  },
  {
   "cell_type": "code",
   "execution_count": null,
   "metadata": {},
   "outputs": [],
   "source": []
  },
  {
   "cell_type": "code",
   "execution_count": null,
   "metadata": {},
   "outputs": [],
   "source": []
  },
  {
   "cell_type": "code",
   "execution_count": null,
   "metadata": {},
   "outputs": [],
   "source": []
  },
  {
   "cell_type": "markdown",
   "metadata": {},
   "source": [
    "## Scaling and encoding"
   ]
  },
  {
   "cell_type": "markdown",
   "metadata": {},
   "source": [
    "### Scale the numeric features into the range of [0, 1]"
   ]
  },
  {
   "cell_type": "code",
   "execution_count": 614,
   "metadata": {},
   "outputs": [],
   "source": [
    "scaler = MinMaxScaler()\n",
    "X_sub_train_scaled = pd.DataFrame(\n",
    "    scaler.fit_transform(X_sub_train[CONTINUOUS_FEATURES_TO_SCALE])\n",
    "    ,columns = X_sub_train[CONTINUOUS_FEATURES_TO_SCALE].columns\n",
    ")\n",
    "# X_sub_train_scaled.head()"
   ]
  },
  {
   "cell_type": "markdown",
   "metadata": {},
   "source": [
    "### Encode the categorical features"
   ]
  },
  {
   "cell_type": "code",
   "execution_count": 615,
   "metadata": {},
   "outputs": [],
   "source": [
    "ohe = OneHotEncoder(categories='auto')\n",
    "ohe_arr = ohe.fit_transform(X_sub_train[CATEGORICAL_FEATURES_TO_ENCODE]).toarray()\n",
    "ohe_labels = ohe.categories_\n",
    "ohe_labels = np.array(ohe_labels).ravel()\n",
    "X_sub_train_encoded = pd.DataFrame(ohe_arr, columns=np.concatenate(ohe_labels, axis=0))\n",
    "# X_sub_train_encoded.head()"
   ]
  },
  {
   "cell_type": "markdown",
   "metadata": {},
   "source": [
    "## Concatenate scaled / encoded / boolean features"
   ]
  },
  {
   "cell_type": "code",
   "execution_count": 616,
   "metadata": {},
   "outputs": [],
   "source": [
    "X_sub_train = pd.concat(\n",
    "    objs = [\n",
    "        X_sub_train_scaled\n",
    "        ,X_sub_train_encoded\n",
    "        ,X_sub_train[BOOLEAN_FEATURES].reset_index(drop = True, inplace = False)\n",
    "    ]\n",
    "    ,axis = 1\n",
    "    ,sort = False\n",
    ")"
   ]
  },
  {
   "cell_type": "code",
   "execution_count": 627,
   "metadata": {},
   "outputs": [
    {
     "name": "stderr",
     "output_type": "stream",
     "text": [
      "C:\\Users\\Administrator\\Anaconda3\\lib\\site-packages\\sklearn\\ensemble\\forest.py:245: FutureWarning: The default value of n_estimators will change from 10 in version 0.20 to 100 in 0.22.\n",
      "  \"10 in version 0.20 to 100 in 0.22.\", FutureWarning)\n"
     ]
    },
    {
     "data": {
      "text/plain": [
       "RandomForestClassifier(bootstrap=True, class_weight=None, criterion='gini',\n",
       "                       max_depth=None, max_features='auto', max_leaf_nodes=None,\n",
       "                       min_impurity_decrease=0.0, min_impurity_split=None,\n",
       "                       min_samples_leaf=1, min_samples_split=2,\n",
       "                       min_weight_fraction_leaf=0.0, n_estimators=10,\n",
       "                       n_jobs=None, oob_score=False, random_state=None,\n",
       "                       verbose=0, warm_start=False)"
      ]
     },
     "execution_count": 627,
     "metadata": {},
     "output_type": "execute_result"
    }
   ],
   "source": [
    "# Train an off-the-shelf classifier with default values set for the hyper-parameters\n",
    "RF_default = RandomForestClassifier()\n",
    "RF_default.fit(X_sub_train, y_sub_train)"
   ]
  },
  {
   "cell_type": "code",
   "execution_count": 647,
   "metadata": {},
   "outputs": [
    {
     "data": {
      "text/plain": [
       "False    26432\n",
       "True       395\n",
       "Name: stroke, dtype: int64"
      ]
     },
     "execution_count": 647,
     "metadata": {},
     "output_type": "execute_result"
    }
   ],
   "source": [
    "y_sub_train.value_counts()"
   ]
  },
  {
   "cell_type": "code",
   "execution_count": 660,
   "metadata": {},
   "outputs": [
    {
     "data": {
      "text/html": [
       "<div>\n",
       "<style scoped>\n",
       "    .dataframe tbody tr th:only-of-type {\n",
       "        vertical-align: middle;\n",
       "    }\n",
       "\n",
       "    .dataframe tbody tr th {\n",
       "        vertical-align: top;\n",
       "    }\n",
       "\n",
       "    .dataframe thead th {\n",
       "        text-align: right;\n",
       "    }\n",
       "</style>\n",
       "<table border=\"1\" class=\"dataframe\">\n",
       "  <thead>\n",
       "    <tr style=\"text-align: right;\">\n",
       "      <th></th>\n",
       "      <th>age</th>\n",
       "      <th>avg_glucose_level</th>\n",
       "      <th>bmi</th>\n",
       "      <th>Female</th>\n",
       "      <th>Male</th>\n",
       "      <th>Other</th>\n",
       "      <th>Govt_job</th>\n",
       "      <th>Never_worked</th>\n",
       "      <th>Private</th>\n",
       "      <th>Self-employed</th>\n",
       "      <th>children</th>\n",
       "      <th>Rural</th>\n",
       "      <th>Urban</th>\n",
       "      <th>formerly smoked</th>\n",
       "      <th>never smoked</th>\n",
       "      <th>smokes</th>\n",
       "      <th>unknown</th>\n",
       "      <th>hypertension</th>\n",
       "      <th>heart_disease</th>\n",
       "      <th>ever_married</th>\n",
       "    </tr>\n",
       "  </thead>\n",
       "  <tbody>\n",
       "    <tr>\n",
       "      <td>0</td>\n",
       "      <td>0.438477</td>\n",
       "      <td>0.086507</td>\n",
       "      <td>0.828283</td>\n",
       "      <td>0.0</td>\n",
       "      <td>1.0</td>\n",
       "      <td>0.0</td>\n",
       "      <td>0.0</td>\n",
       "      <td>0.0</td>\n",
       "      <td>1.0</td>\n",
       "      <td>0.0</td>\n",
       "      <td>0.0</td>\n",
       "      <td>1.0</td>\n",
       "      <td>0.0</td>\n",
       "      <td>0.0</td>\n",
       "      <td>0.0</td>\n",
       "      <td>1.0</td>\n",
       "      <td>0.0</td>\n",
       "      <td>False</td>\n",
       "      <td>False</td>\n",
       "      <td>False</td>\n",
       "    </tr>\n",
       "    <tr>\n",
       "      <td>1</td>\n",
       "      <td>0.108887</td>\n",
       "      <td>0.171320</td>\n",
       "      <td>0.131313</td>\n",
       "      <td>0.0</td>\n",
       "      <td>1.0</td>\n",
       "      <td>0.0</td>\n",
       "      <td>0.0</td>\n",
       "      <td>0.0</td>\n",
       "      <td>0.0</td>\n",
       "      <td>0.0</td>\n",
       "      <td>1.0</td>\n",
       "      <td>0.0</td>\n",
       "      <td>1.0</td>\n",
       "      <td>0.0</td>\n",
       "      <td>1.0</td>\n",
       "      <td>0.0</td>\n",
       "      <td>0.0</td>\n",
       "      <td>False</td>\n",
       "      <td>False</td>\n",
       "      <td>False</td>\n",
       "    </tr>\n",
       "    <tr>\n",
       "      <td>2</td>\n",
       "      <td>0.975586</td>\n",
       "      <td>0.043296</td>\n",
       "      <td>0.595960</td>\n",
       "      <td>1.0</td>\n",
       "      <td>0.0</td>\n",
       "      <td>0.0</td>\n",
       "      <td>0.0</td>\n",
       "      <td>0.0</td>\n",
       "      <td>1.0</td>\n",
       "      <td>0.0</td>\n",
       "      <td>0.0</td>\n",
       "      <td>0.0</td>\n",
       "      <td>1.0</td>\n",
       "      <td>0.0</td>\n",
       "      <td>1.0</td>\n",
       "      <td>0.0</td>\n",
       "      <td>0.0</td>\n",
       "      <td>False</td>\n",
       "      <td>False</td>\n",
       "      <td>True</td>\n",
       "    </tr>\n",
       "    <tr>\n",
       "      <td>3</td>\n",
       "      <td>0.304199</td>\n",
       "      <td>0.029867</td>\n",
       "      <td>0.636364</td>\n",
       "      <td>0.0</td>\n",
       "      <td>1.0</td>\n",
       "      <td>0.0</td>\n",
       "      <td>0.0</td>\n",
       "      <td>0.0</td>\n",
       "      <td>1.0</td>\n",
       "      <td>0.0</td>\n",
       "      <td>0.0</td>\n",
       "      <td>0.0</td>\n",
       "      <td>1.0</td>\n",
       "      <td>0.0</td>\n",
       "      <td>0.0</td>\n",
       "      <td>0.0</td>\n",
       "      <td>1.0</td>\n",
       "      <td>False</td>\n",
       "      <td>False</td>\n",
       "      <td>False</td>\n",
       "    </tr>\n",
       "    <tr>\n",
       "      <td>4</td>\n",
       "      <td>0.719238</td>\n",
       "      <td>0.099174</td>\n",
       "      <td>0.774411</td>\n",
       "      <td>1.0</td>\n",
       "      <td>0.0</td>\n",
       "      <td>0.0</td>\n",
       "      <td>0.0</td>\n",
       "      <td>0.0</td>\n",
       "      <td>0.0</td>\n",
       "      <td>1.0</td>\n",
       "      <td>0.0</td>\n",
       "      <td>1.0</td>\n",
       "      <td>0.0</td>\n",
       "      <td>0.0</td>\n",
       "      <td>0.0</td>\n",
       "      <td>0.0</td>\n",
       "      <td>1.0</td>\n",
       "      <td>False</td>\n",
       "      <td>False</td>\n",
       "      <td>False</td>\n",
       "    </tr>\n",
       "  </tbody>\n",
       "</table>\n",
       "</div>"
      ],
      "text/plain": [
       "        age  avg_glucose_level       bmi  Female  Male  Other  Govt_job  \\\n",
       "0  0.438477           0.086507  0.828283     0.0   1.0    0.0       0.0   \n",
       "1  0.108887           0.171320  0.131313     0.0   1.0    0.0       0.0   \n",
       "2  0.975586           0.043296  0.595960     1.0   0.0    0.0       0.0   \n",
       "3  0.304199           0.029867  0.636364     0.0   1.0    0.0       0.0   \n",
       "4  0.719238           0.099174  0.774411     1.0   0.0    0.0       0.0   \n",
       "\n",
       "   Never_worked  Private  Self-employed  children  Rural  Urban  \\\n",
       "0           0.0      1.0            0.0       0.0    1.0    0.0   \n",
       "1           0.0      0.0            0.0       1.0    0.0    1.0   \n",
       "2           0.0      1.0            0.0       0.0    0.0    1.0   \n",
       "3           0.0      1.0            0.0       0.0    0.0    1.0   \n",
       "4           0.0      0.0            1.0       0.0    1.0    0.0   \n",
       "\n",
       "   formerly smoked  never smoked  smokes  unknown  hypertension  \\\n",
       "0              0.0           0.0     1.0      0.0         False   \n",
       "1              0.0           1.0     0.0      0.0         False   \n",
       "2              0.0           1.0     0.0      0.0         False   \n",
       "3              0.0           0.0     0.0      1.0         False   \n",
       "4              0.0           0.0     0.0      1.0         False   \n",
       "\n",
       "   heart_disease  ever_married  \n",
       "0          False         False  \n",
       "1          False         False  \n",
       "2          False          True  \n",
       "3          False         False  \n",
       "4          False         False  "
      ]
     },
     "execution_count": 660,
     "metadata": {},
     "output_type": "execute_result"
    }
   ],
   "source": [
    "X_sub_train.head()"
   ]
  },
  {
   "cell_type": "code",
   "execution_count": 666,
   "metadata": {},
   "outputs": [
    {
     "data": {
      "text/plain": [
       "True     9230\n",
       "False    6419\n",
       "Name: ever_married, dtype: int64"
      ]
     },
     "execution_count": 666,
     "metadata": {},
     "output_type": "execute_result"
    }
   ],
   "source": [
    "X_y_sub_train[X_y_sub_train['stroke']==True].sample(\n",
    "            n = 26432\n",
    "            ,replace = True\n",
    "            ,random_state = PRM_RND\n",
    "        )['ever_married'].value_counts()"
   ]
  },
  {
   "cell_type": "code",
   "execution_count": 650,
   "metadata": {},
   "outputs": [],
   "source": [
    "X_y_sub_train = pd.concat(\n",
    "    [X_sub_train, y_sub_train]\n",
    "    ,axis = 1\n",
    "    ,sort = False\n",
    ")"
   ]
  },
  {
   "cell_type": "code",
   "execution_count": 651,
   "metadata": {},
   "outputs": [],
   "source": [
    "X_y_sub_train = pd.concat(\n",
    "    [\n",
    "        X_y_sub_train[X_y_sub_train['stroke']==False]\n",
    "        ,X_y_sub_train[X_y_sub_train['stroke']==True].sample(\n",
    "            n = 26432\n",
    "            ,replace = True\n",
    "            ,random_state = PRM_RND\n",
    "        )\n",
    "    ]\n",
    "    ,axis = 0\n",
    "    ,sort = False\n",
    ")"
   ]
  },
  {
   "cell_type": "code",
   "execution_count": 652,
   "metadata": {},
   "outputs": [
    {
     "data": {
      "text/plain": [
       "True     26432\n",
       "False    26432\n",
       "Name: stroke, dtype: int64"
      ]
     },
     "execution_count": 652,
     "metadata": {},
     "output_type": "execute_result"
    }
   ],
   "source": [
    "X_y_sub_train['stroke'].value_counts()"
   ]
  },
  {
   "cell_type": "code",
   "execution_count": 667,
   "metadata": {},
   "outputs": [
    {
     "name": "stderr",
     "output_type": "stream",
     "text": [
      "C:\\Users\\Administrator\\Anaconda3\\lib\\site-packages\\sklearn\\ensemble\\forest.py:245: FutureWarning: The default value of n_estimators will change from 10 in version 0.20 to 100 in 0.22.\n",
      "  \"10 in version 0.20 to 100 in 0.22.\", FutureWarning)\n"
     ]
    },
    {
     "ename": "ValueError",
     "evalue": "Input contains NaN, infinity or a value too large for dtype('float32').",
     "output_type": "error",
     "traceback": [
      "\u001b[1;31m---------------------------------------------------------------------------\u001b[0m",
      "\u001b[1;31mValueError\u001b[0m                                Traceback (most recent call last)",
      "\u001b[1;32m<ipython-input-667-d5c5532ee217>\u001b[0m in \u001b[0;36m<module>\u001b[1;34m\u001b[0m\n\u001b[0;32m      1\u001b[0m \u001b[1;31m# Train using the sampled data\u001b[0m\u001b[1;33m\u001b[0m\u001b[1;33m\u001b[0m\u001b[1;33m\u001b[0m\u001b[0m\n\u001b[0;32m      2\u001b[0m \u001b[0mRF_sampled\u001b[0m \u001b[1;33m=\u001b[0m \u001b[0mRandomForestClassifier\u001b[0m\u001b[1;33m(\u001b[0m\u001b[1;33m)\u001b[0m\u001b[1;33m\u001b[0m\u001b[1;33m\u001b[0m\u001b[0m\n\u001b[1;32m----> 3\u001b[1;33m \u001b[0mRF_sampled\u001b[0m\u001b[1;33m.\u001b[0m\u001b[0mfit\u001b[0m\u001b[1;33m(\u001b[0m\u001b[0mX_y_sub_train\u001b[0m\u001b[1;33m.\u001b[0m\u001b[0mdrop\u001b[0m\u001b[1;33m(\u001b[0m\u001b[1;34m'stroke'\u001b[0m\u001b[1;33m,\u001b[0m \u001b[0maxis\u001b[0m \u001b[1;33m=\u001b[0m \u001b[1;36m1\u001b[0m\u001b[1;33m)\u001b[0m\u001b[1;33m,\u001b[0m \u001b[0mX_y_sub_train\u001b[0m\u001b[1;33m[\u001b[0m\u001b[1;34m'stroke'\u001b[0m\u001b[1;33m]\u001b[0m\u001b[1;33m)\u001b[0m\u001b[1;33m\u001b[0m\u001b[1;33m\u001b[0m\u001b[0m\n\u001b[0m",
      "\u001b[1;32m~\\Anaconda3\\lib\\site-packages\\sklearn\\ensemble\\forest.py\u001b[0m in \u001b[0;36mfit\u001b[1;34m(self, X, y, sample_weight)\u001b[0m\n\u001b[0;32m    247\u001b[0m \u001b[1;33m\u001b[0m\u001b[0m\n\u001b[0;32m    248\u001b[0m         \u001b[1;31m# Validate or convert input data\u001b[0m\u001b[1;33m\u001b[0m\u001b[1;33m\u001b[0m\u001b[1;33m\u001b[0m\u001b[0m\n\u001b[1;32m--> 249\u001b[1;33m         \u001b[0mX\u001b[0m \u001b[1;33m=\u001b[0m \u001b[0mcheck_array\u001b[0m\u001b[1;33m(\u001b[0m\u001b[0mX\u001b[0m\u001b[1;33m,\u001b[0m \u001b[0maccept_sparse\u001b[0m\u001b[1;33m=\u001b[0m\u001b[1;34m\"csc\"\u001b[0m\u001b[1;33m,\u001b[0m \u001b[0mdtype\u001b[0m\u001b[1;33m=\u001b[0m\u001b[0mDTYPE\u001b[0m\u001b[1;33m)\u001b[0m\u001b[1;33m\u001b[0m\u001b[1;33m\u001b[0m\u001b[0m\n\u001b[0m\u001b[0;32m    250\u001b[0m         \u001b[0my\u001b[0m \u001b[1;33m=\u001b[0m \u001b[0mcheck_array\u001b[0m\u001b[1;33m(\u001b[0m\u001b[0my\u001b[0m\u001b[1;33m,\u001b[0m \u001b[0maccept_sparse\u001b[0m\u001b[1;33m=\u001b[0m\u001b[1;34m'csc'\u001b[0m\u001b[1;33m,\u001b[0m \u001b[0mensure_2d\u001b[0m\u001b[1;33m=\u001b[0m\u001b[1;32mFalse\u001b[0m\u001b[1;33m,\u001b[0m \u001b[0mdtype\u001b[0m\u001b[1;33m=\u001b[0m\u001b[1;32mNone\u001b[0m\u001b[1;33m)\u001b[0m\u001b[1;33m\u001b[0m\u001b[1;33m\u001b[0m\u001b[0m\n\u001b[0;32m    251\u001b[0m         \u001b[1;32mif\u001b[0m \u001b[0msample_weight\u001b[0m \u001b[1;32mis\u001b[0m \u001b[1;32mnot\u001b[0m \u001b[1;32mNone\u001b[0m\u001b[1;33m:\u001b[0m\u001b[1;33m\u001b[0m\u001b[1;33m\u001b[0m\u001b[0m\n",
      "\u001b[1;32m~\\Anaconda3\\lib\\site-packages\\sklearn\\utils\\validation.py\u001b[0m in \u001b[0;36mcheck_array\u001b[1;34m(array, accept_sparse, accept_large_sparse, dtype, order, copy, force_all_finite, ensure_2d, allow_nd, ensure_min_samples, ensure_min_features, warn_on_dtype, estimator)\u001b[0m\n\u001b[0;32m    540\u001b[0m         \u001b[1;32mif\u001b[0m \u001b[0mforce_all_finite\u001b[0m\u001b[1;33m:\u001b[0m\u001b[1;33m\u001b[0m\u001b[1;33m\u001b[0m\u001b[0m\n\u001b[0;32m    541\u001b[0m             _assert_all_finite(array,\n\u001b[1;32m--> 542\u001b[1;33m                                allow_nan=force_all_finite == 'allow-nan')\n\u001b[0m\u001b[0;32m    543\u001b[0m \u001b[1;33m\u001b[0m\u001b[0m\n\u001b[0;32m    544\u001b[0m     \u001b[1;32mif\u001b[0m \u001b[0mensure_min_samples\u001b[0m \u001b[1;33m>\u001b[0m \u001b[1;36m0\u001b[0m\u001b[1;33m:\u001b[0m\u001b[1;33m\u001b[0m\u001b[1;33m\u001b[0m\u001b[0m\n",
      "\u001b[1;32m~\\Anaconda3\\lib\\site-packages\\sklearn\\utils\\validation.py\u001b[0m in \u001b[0;36m_assert_all_finite\u001b[1;34m(X, allow_nan)\u001b[0m\n\u001b[0;32m     54\u001b[0m                 not allow_nan and not np.isfinite(X).all()):\n\u001b[0;32m     55\u001b[0m             \u001b[0mtype_err\u001b[0m \u001b[1;33m=\u001b[0m \u001b[1;34m'infinity'\u001b[0m \u001b[1;32mif\u001b[0m \u001b[0mallow_nan\u001b[0m \u001b[1;32melse\u001b[0m \u001b[1;34m'NaN, infinity'\u001b[0m\u001b[1;33m\u001b[0m\u001b[1;33m\u001b[0m\u001b[0m\n\u001b[1;32m---> 56\u001b[1;33m             \u001b[1;32mraise\u001b[0m \u001b[0mValueError\u001b[0m\u001b[1;33m(\u001b[0m\u001b[0mmsg_err\u001b[0m\u001b[1;33m.\u001b[0m\u001b[0mformat\u001b[0m\u001b[1;33m(\u001b[0m\u001b[0mtype_err\u001b[0m\u001b[1;33m,\u001b[0m \u001b[0mX\u001b[0m\u001b[1;33m.\u001b[0m\u001b[0mdtype\u001b[0m\u001b[1;33m)\u001b[0m\u001b[1;33m)\u001b[0m\u001b[1;33m\u001b[0m\u001b[1;33m\u001b[0m\u001b[0m\n\u001b[0m\u001b[0;32m     57\u001b[0m     \u001b[1;31m# for object dtype data, we only check for NaNs (GH-13254)\u001b[0m\u001b[1;33m\u001b[0m\u001b[1;33m\u001b[0m\u001b[1;33m\u001b[0m\u001b[0m\n\u001b[0;32m     58\u001b[0m     \u001b[1;32melif\u001b[0m \u001b[0mX\u001b[0m\u001b[1;33m.\u001b[0m\u001b[0mdtype\u001b[0m \u001b[1;33m==\u001b[0m \u001b[0mnp\u001b[0m\u001b[1;33m.\u001b[0m\u001b[0mdtype\u001b[0m\u001b[1;33m(\u001b[0m\u001b[1;34m'object'\u001b[0m\u001b[1;33m)\u001b[0m \u001b[1;32mand\u001b[0m \u001b[1;32mnot\u001b[0m \u001b[0mallow_nan\u001b[0m\u001b[1;33m:\u001b[0m\u001b[1;33m\u001b[0m\u001b[1;33m\u001b[0m\u001b[0m\n",
      "\u001b[1;31mValueError\u001b[0m: Input contains NaN, infinity or a value too large for dtype('float32')."
     ]
    }
   ],
   "source": [
    "# Train using the sampled data\n",
    "RF_sampled = RandomForestClassifier()\n",
    "RF_sampled.fit(X_y_sub_train.drop('stroke', axis = 1), X_y_sub_train['stroke'])"
   ]
  },
  {
   "cell_type": "code",
   "execution_count": 669,
   "metadata": {},
   "outputs": [
    {
     "ename": "ValueError",
     "evalue": "cannot convert float NaN to integer",
     "output_type": "error",
     "traceback": [
      "\u001b[1;31m---------------------------------------------------------------------------\u001b[0m",
      "\u001b[1;31mValueError\u001b[0m                                Traceback (most recent call last)",
      "\u001b[1;32m<ipython-input-669-47f7745abab2>\u001b[0m in \u001b[0;36m<module>\u001b[1;34m\u001b[0m\n\u001b[0;32m      1\u001b[0m \u001b[0mdd\u001b[0m \u001b[1;33m=\u001b[0m \u001b[0mX_y_sub_train\u001b[0m\u001b[1;33m.\u001b[0m\u001b[0mdrop\u001b[0m\u001b[1;33m(\u001b[0m\u001b[1;34m'stroke'\u001b[0m\u001b[1;33m,\u001b[0m \u001b[0maxis\u001b[0m \u001b[1;33m=\u001b[0m \u001b[1;36m1\u001b[0m\u001b[1;33m)\u001b[0m\u001b[1;33m\u001b[0m\u001b[1;33m\u001b[0m\u001b[0m\n\u001b[1;32m----> 2\u001b[1;33m \u001b[0mdd\u001b[0m\u001b[1;33m[\u001b[0m\u001b[1;34m\"hypertension\"\u001b[0m\u001b[1;33m]\u001b[0m \u001b[1;33m=\u001b[0m \u001b[0mdd\u001b[0m\u001b[1;33m[\u001b[0m\u001b[1;34m\"hypertension\"\u001b[0m\u001b[1;33m]\u001b[0m\u001b[1;33m.\u001b[0m\u001b[0mastype\u001b[0m\u001b[1;33m(\u001b[0m\u001b[0mint\u001b[0m\u001b[1;33m)\u001b[0m\u001b[1;33m\u001b[0m\u001b[1;33m\u001b[0m\u001b[0m\n\u001b[0m\u001b[0;32m      3\u001b[0m \u001b[0mdd\u001b[0m\u001b[1;33m[\u001b[0m\u001b[1;34m\"heart_disease\"\u001b[0m\u001b[1;33m]\u001b[0m \u001b[1;33m=\u001b[0m \u001b[0mdd\u001b[0m\u001b[1;33m[\u001b[0m\u001b[1;34m\"heart_disease\"\u001b[0m\u001b[1;33m]\u001b[0m\u001b[1;33m.\u001b[0m\u001b[0mastype\u001b[0m\u001b[1;33m(\u001b[0m\u001b[0mint\u001b[0m\u001b[1;33m)\u001b[0m\u001b[1;33m\u001b[0m\u001b[1;33m\u001b[0m\u001b[0m\n\u001b[0;32m      4\u001b[0m \u001b[0mdd\u001b[0m\u001b[1;33m[\u001b[0m\u001b[1;34m\"ever_married\"\u001b[0m\u001b[1;33m]\u001b[0m \u001b[1;33m=\u001b[0m \u001b[0mdd\u001b[0m\u001b[1;33m[\u001b[0m\u001b[1;34m\"ever_married\"\u001b[0m\u001b[1;33m]\u001b[0m\u001b[1;33m.\u001b[0m\u001b[0mastype\u001b[0m\u001b[1;33m(\u001b[0m\u001b[0mint\u001b[0m\u001b[1;33m)\u001b[0m\u001b[1;33m\u001b[0m\u001b[1;33m\u001b[0m\u001b[0m\n",
      "\u001b[1;32m~\\Anaconda3\\lib\\site-packages\\pandas\\core\\generic.py\u001b[0m in \u001b[0;36mastype\u001b[1;34m(self, dtype, copy, errors, **kwargs)\u001b[0m\n\u001b[0;32m   5880\u001b[0m             \u001b[1;31m# else, only a single dtype is given\u001b[0m\u001b[1;33m\u001b[0m\u001b[1;33m\u001b[0m\u001b[1;33m\u001b[0m\u001b[0m\n\u001b[0;32m   5881\u001b[0m             new_data = self._data.astype(\n\u001b[1;32m-> 5882\u001b[1;33m                 \u001b[0mdtype\u001b[0m\u001b[1;33m=\u001b[0m\u001b[0mdtype\u001b[0m\u001b[1;33m,\u001b[0m \u001b[0mcopy\u001b[0m\u001b[1;33m=\u001b[0m\u001b[0mcopy\u001b[0m\u001b[1;33m,\u001b[0m \u001b[0merrors\u001b[0m\u001b[1;33m=\u001b[0m\u001b[0merrors\u001b[0m\u001b[1;33m,\u001b[0m \u001b[1;33m**\u001b[0m\u001b[0mkwargs\u001b[0m\u001b[1;33m\u001b[0m\u001b[1;33m\u001b[0m\u001b[0m\n\u001b[0m\u001b[0;32m   5883\u001b[0m             )\n\u001b[0;32m   5884\u001b[0m             \u001b[1;32mreturn\u001b[0m \u001b[0mself\u001b[0m\u001b[1;33m.\u001b[0m\u001b[0m_constructor\u001b[0m\u001b[1;33m(\u001b[0m\u001b[0mnew_data\u001b[0m\u001b[1;33m)\u001b[0m\u001b[1;33m.\u001b[0m\u001b[0m__finalize__\u001b[0m\u001b[1;33m(\u001b[0m\u001b[0mself\u001b[0m\u001b[1;33m)\u001b[0m\u001b[1;33m\u001b[0m\u001b[1;33m\u001b[0m\u001b[0m\n",
      "\u001b[1;32m~\\Anaconda3\\lib\\site-packages\\pandas\\core\\internals\\managers.py\u001b[0m in \u001b[0;36mastype\u001b[1;34m(self, dtype, **kwargs)\u001b[0m\n\u001b[0;32m    579\u001b[0m \u001b[1;33m\u001b[0m\u001b[0m\n\u001b[0;32m    580\u001b[0m     \u001b[1;32mdef\u001b[0m \u001b[0mastype\u001b[0m\u001b[1;33m(\u001b[0m\u001b[0mself\u001b[0m\u001b[1;33m,\u001b[0m \u001b[0mdtype\u001b[0m\u001b[1;33m,\u001b[0m \u001b[1;33m**\u001b[0m\u001b[0mkwargs\u001b[0m\u001b[1;33m)\u001b[0m\u001b[1;33m:\u001b[0m\u001b[1;33m\u001b[0m\u001b[1;33m\u001b[0m\u001b[0m\n\u001b[1;32m--> 581\u001b[1;33m         \u001b[1;32mreturn\u001b[0m \u001b[0mself\u001b[0m\u001b[1;33m.\u001b[0m\u001b[0mapply\u001b[0m\u001b[1;33m(\u001b[0m\u001b[1;34m\"astype\"\u001b[0m\u001b[1;33m,\u001b[0m \u001b[0mdtype\u001b[0m\u001b[1;33m=\u001b[0m\u001b[0mdtype\u001b[0m\u001b[1;33m,\u001b[0m \u001b[1;33m**\u001b[0m\u001b[0mkwargs\u001b[0m\u001b[1;33m)\u001b[0m\u001b[1;33m\u001b[0m\u001b[1;33m\u001b[0m\u001b[0m\n\u001b[0m\u001b[0;32m    582\u001b[0m \u001b[1;33m\u001b[0m\u001b[0m\n\u001b[0;32m    583\u001b[0m     \u001b[1;32mdef\u001b[0m \u001b[0mconvert\u001b[0m\u001b[1;33m(\u001b[0m\u001b[0mself\u001b[0m\u001b[1;33m,\u001b[0m \u001b[1;33m**\u001b[0m\u001b[0mkwargs\u001b[0m\u001b[1;33m)\u001b[0m\u001b[1;33m:\u001b[0m\u001b[1;33m\u001b[0m\u001b[1;33m\u001b[0m\u001b[0m\n",
      "\u001b[1;32m~\\Anaconda3\\lib\\site-packages\\pandas\\core\\internals\\managers.py\u001b[0m in \u001b[0;36mapply\u001b[1;34m(self, f, axes, filter, do_integrity_check, consolidate, **kwargs)\u001b[0m\n\u001b[0;32m    436\u001b[0m                     \u001b[0mkwargs\u001b[0m\u001b[1;33m[\u001b[0m\u001b[0mk\u001b[0m\u001b[1;33m]\u001b[0m \u001b[1;33m=\u001b[0m \u001b[0mobj\u001b[0m\u001b[1;33m.\u001b[0m\u001b[0mreindex\u001b[0m\u001b[1;33m(\u001b[0m\u001b[0mb_items\u001b[0m\u001b[1;33m,\u001b[0m \u001b[0maxis\u001b[0m\u001b[1;33m=\u001b[0m\u001b[0maxis\u001b[0m\u001b[1;33m,\u001b[0m \u001b[0mcopy\u001b[0m\u001b[1;33m=\u001b[0m\u001b[0malign_copy\u001b[0m\u001b[1;33m)\u001b[0m\u001b[1;33m\u001b[0m\u001b[1;33m\u001b[0m\u001b[0m\n\u001b[0;32m    437\u001b[0m \u001b[1;33m\u001b[0m\u001b[0m\n\u001b[1;32m--> 438\u001b[1;33m             \u001b[0mapplied\u001b[0m \u001b[1;33m=\u001b[0m \u001b[0mgetattr\u001b[0m\u001b[1;33m(\u001b[0m\u001b[0mb\u001b[0m\u001b[1;33m,\u001b[0m \u001b[0mf\u001b[0m\u001b[1;33m)\u001b[0m\u001b[1;33m(\u001b[0m\u001b[1;33m**\u001b[0m\u001b[0mkwargs\u001b[0m\u001b[1;33m)\u001b[0m\u001b[1;33m\u001b[0m\u001b[1;33m\u001b[0m\u001b[0m\n\u001b[0m\u001b[0;32m    439\u001b[0m             \u001b[0mresult_blocks\u001b[0m \u001b[1;33m=\u001b[0m \u001b[0m_extend_blocks\u001b[0m\u001b[1;33m(\u001b[0m\u001b[0mapplied\u001b[0m\u001b[1;33m,\u001b[0m \u001b[0mresult_blocks\u001b[0m\u001b[1;33m)\u001b[0m\u001b[1;33m\u001b[0m\u001b[1;33m\u001b[0m\u001b[0m\n\u001b[0;32m    440\u001b[0m \u001b[1;33m\u001b[0m\u001b[0m\n",
      "\u001b[1;32m~\\Anaconda3\\lib\\site-packages\\pandas\\core\\internals\\blocks.py\u001b[0m in \u001b[0;36mastype\u001b[1;34m(self, dtype, copy, errors, values, **kwargs)\u001b[0m\n\u001b[0;32m    557\u001b[0m \u001b[1;33m\u001b[0m\u001b[0m\n\u001b[0;32m    558\u001b[0m     \u001b[1;32mdef\u001b[0m \u001b[0mastype\u001b[0m\u001b[1;33m(\u001b[0m\u001b[0mself\u001b[0m\u001b[1;33m,\u001b[0m \u001b[0mdtype\u001b[0m\u001b[1;33m,\u001b[0m \u001b[0mcopy\u001b[0m\u001b[1;33m=\u001b[0m\u001b[1;32mFalse\u001b[0m\u001b[1;33m,\u001b[0m \u001b[0merrors\u001b[0m\u001b[1;33m=\u001b[0m\u001b[1;34m\"raise\"\u001b[0m\u001b[1;33m,\u001b[0m \u001b[0mvalues\u001b[0m\u001b[1;33m=\u001b[0m\u001b[1;32mNone\u001b[0m\u001b[1;33m,\u001b[0m \u001b[1;33m**\u001b[0m\u001b[0mkwargs\u001b[0m\u001b[1;33m)\u001b[0m\u001b[1;33m:\u001b[0m\u001b[1;33m\u001b[0m\u001b[1;33m\u001b[0m\u001b[0m\n\u001b[1;32m--> 559\u001b[1;33m         \u001b[1;32mreturn\u001b[0m \u001b[0mself\u001b[0m\u001b[1;33m.\u001b[0m\u001b[0m_astype\u001b[0m\u001b[1;33m(\u001b[0m\u001b[0mdtype\u001b[0m\u001b[1;33m,\u001b[0m \u001b[0mcopy\u001b[0m\u001b[1;33m=\u001b[0m\u001b[0mcopy\u001b[0m\u001b[1;33m,\u001b[0m \u001b[0merrors\u001b[0m\u001b[1;33m=\u001b[0m\u001b[0merrors\u001b[0m\u001b[1;33m,\u001b[0m \u001b[0mvalues\u001b[0m\u001b[1;33m=\u001b[0m\u001b[0mvalues\u001b[0m\u001b[1;33m,\u001b[0m \u001b[1;33m**\u001b[0m\u001b[0mkwargs\u001b[0m\u001b[1;33m)\u001b[0m\u001b[1;33m\u001b[0m\u001b[1;33m\u001b[0m\u001b[0m\n\u001b[0m\u001b[0;32m    560\u001b[0m \u001b[1;33m\u001b[0m\u001b[0m\n\u001b[0;32m    561\u001b[0m     \u001b[1;32mdef\u001b[0m \u001b[0m_astype\u001b[0m\u001b[1;33m(\u001b[0m\u001b[0mself\u001b[0m\u001b[1;33m,\u001b[0m \u001b[0mdtype\u001b[0m\u001b[1;33m,\u001b[0m \u001b[0mcopy\u001b[0m\u001b[1;33m=\u001b[0m\u001b[1;32mFalse\u001b[0m\u001b[1;33m,\u001b[0m \u001b[0merrors\u001b[0m\u001b[1;33m=\u001b[0m\u001b[1;34m\"raise\"\u001b[0m\u001b[1;33m,\u001b[0m \u001b[0mvalues\u001b[0m\u001b[1;33m=\u001b[0m\u001b[1;32mNone\u001b[0m\u001b[1;33m,\u001b[0m \u001b[1;33m**\u001b[0m\u001b[0mkwargs\u001b[0m\u001b[1;33m)\u001b[0m\u001b[1;33m:\u001b[0m\u001b[1;33m\u001b[0m\u001b[1;33m\u001b[0m\u001b[0m\n",
      "\u001b[1;32m~\\Anaconda3\\lib\\site-packages\\pandas\\core\\internals\\blocks.py\u001b[0m in \u001b[0;36m_astype\u001b[1;34m(self, dtype, copy, errors, values, **kwargs)\u001b[0m\n\u001b[0;32m    641\u001b[0m                     \u001b[1;31m# _astype_nansafe works fine with 1-d only\u001b[0m\u001b[1;33m\u001b[0m\u001b[1;33m\u001b[0m\u001b[1;33m\u001b[0m\u001b[0m\n\u001b[0;32m    642\u001b[0m                     \u001b[0mvals1d\u001b[0m \u001b[1;33m=\u001b[0m \u001b[0mvalues\u001b[0m\u001b[1;33m.\u001b[0m\u001b[0mravel\u001b[0m\u001b[1;33m(\u001b[0m\u001b[1;33m)\u001b[0m\u001b[1;33m\u001b[0m\u001b[1;33m\u001b[0m\u001b[0m\n\u001b[1;32m--> 643\u001b[1;33m                     \u001b[0mvalues\u001b[0m \u001b[1;33m=\u001b[0m \u001b[0mastype_nansafe\u001b[0m\u001b[1;33m(\u001b[0m\u001b[0mvals1d\u001b[0m\u001b[1;33m,\u001b[0m \u001b[0mdtype\u001b[0m\u001b[1;33m,\u001b[0m \u001b[0mcopy\u001b[0m\u001b[1;33m=\u001b[0m\u001b[1;32mTrue\u001b[0m\u001b[1;33m,\u001b[0m \u001b[1;33m**\u001b[0m\u001b[0mkwargs\u001b[0m\u001b[1;33m)\u001b[0m\u001b[1;33m\u001b[0m\u001b[1;33m\u001b[0m\u001b[0m\n\u001b[0m\u001b[0;32m    644\u001b[0m \u001b[1;33m\u001b[0m\u001b[0m\n\u001b[0;32m    645\u001b[0m                 \u001b[1;31m# TODO(extension)\u001b[0m\u001b[1;33m\u001b[0m\u001b[1;33m\u001b[0m\u001b[1;33m\u001b[0m\u001b[0m\n",
      "\u001b[1;32m~\\Anaconda3\\lib\\site-packages\\pandas\\core\\dtypes\\cast.py\u001b[0m in \u001b[0;36mastype_nansafe\u001b[1;34m(arr, dtype, copy, skipna)\u001b[0m\n\u001b[0;32m    705\u001b[0m         \u001b[1;31m# work around NumPy brokenness, #1987\u001b[0m\u001b[1;33m\u001b[0m\u001b[1;33m\u001b[0m\u001b[1;33m\u001b[0m\u001b[0m\n\u001b[0;32m    706\u001b[0m         \u001b[1;32mif\u001b[0m \u001b[0mnp\u001b[0m\u001b[1;33m.\u001b[0m\u001b[0missubdtype\u001b[0m\u001b[1;33m(\u001b[0m\u001b[0mdtype\u001b[0m\u001b[1;33m.\u001b[0m\u001b[0mtype\u001b[0m\u001b[1;33m,\u001b[0m \u001b[0mnp\u001b[0m\u001b[1;33m.\u001b[0m\u001b[0minteger\u001b[0m\u001b[1;33m)\u001b[0m\u001b[1;33m:\u001b[0m\u001b[1;33m\u001b[0m\u001b[1;33m\u001b[0m\u001b[0m\n\u001b[1;32m--> 707\u001b[1;33m             \u001b[1;32mreturn\u001b[0m \u001b[0mlib\u001b[0m\u001b[1;33m.\u001b[0m\u001b[0mastype_intsafe\u001b[0m\u001b[1;33m(\u001b[0m\u001b[0marr\u001b[0m\u001b[1;33m.\u001b[0m\u001b[0mravel\u001b[0m\u001b[1;33m(\u001b[0m\u001b[1;33m)\u001b[0m\u001b[1;33m,\u001b[0m \u001b[0mdtype\u001b[0m\u001b[1;33m)\u001b[0m\u001b[1;33m.\u001b[0m\u001b[0mreshape\u001b[0m\u001b[1;33m(\u001b[0m\u001b[0marr\u001b[0m\u001b[1;33m.\u001b[0m\u001b[0mshape\u001b[0m\u001b[1;33m)\u001b[0m\u001b[1;33m\u001b[0m\u001b[1;33m\u001b[0m\u001b[0m\n\u001b[0m\u001b[0;32m    708\u001b[0m \u001b[1;33m\u001b[0m\u001b[0m\n\u001b[0;32m    709\u001b[0m         \u001b[1;31m# if we have a datetime/timedelta array of objects\u001b[0m\u001b[1;33m\u001b[0m\u001b[1;33m\u001b[0m\u001b[1;33m\u001b[0m\u001b[0m\n",
      "\u001b[1;32mpandas\\_libs\\lib.pyx\u001b[0m in \u001b[0;36mpandas._libs.lib.astype_intsafe\u001b[1;34m()\u001b[0m\n",
      "\u001b[1;31mValueError\u001b[0m: cannot convert float NaN to integer"
     ]
    }
   ],
   "source": [
    "dd = X_y_sub_train.drop('stroke', axis = 1)\n",
    "dd[\"hypertension\"] = dd[\"hypertension\"].astype(int)\n",
    "dd[\"heart_disease\"] = dd[\"heart_disease\"].astype(int)\n",
    "dd[\"ever_married\"] = dd[\"ever_married\"].astype(int)"
   ]
  },
  {
   "cell_type": "code",
   "execution_count": 653,
   "metadata": {},
   "outputs": [],
   "source": [
    "# LGBM_train_data = lgbm.Dataset(X_sub_train, label=y_sub_train)\n",
    "# LGBM_default = lgbm()"
   ]
  },
  {
   "cell_type": "markdown",
   "metadata": {},
   "source": [
    "### Preprocess the validation set and apply the classifier"
   ]
  },
  {
   "cell_type": "code",
   "execution_count": 620,
   "metadata": {},
   "outputs": [],
   "source": [
    "# Preprocess the training set\n",
    "X_validation, y_validation = preprocess_dataset(X_validation, y_validation, 'validation')"
   ]
  },
  {
   "cell_type": "code",
   "execution_count": 621,
   "metadata": {},
   "outputs": [],
   "source": [
    "# Scale\n",
    "X_validation_scaled = pd.DataFrame(\n",
    "    scaler.transform(X_validation[CONTINUOUS_FEATURES_TO_SCALE])\n",
    "    ,columns = X_validation[CONTINUOUS_FEATURES_TO_SCALE].columns\n",
    ")\n",
    "\n",
    "# Encode\n",
    "ohe_arr = ohe.transform(X_validation[CATEGORICAL_FEATURES_TO_ENCODE]).toarray()\n",
    "ohe_labels = ohe.categories_\n",
    "ohe_labels = np.array(ohe_labels).ravel()\n",
    "X_validation_encoded = pd.DataFrame(ohe_arr, columns=np.concatenate(ohe_labels, axis=0))\n",
    "\n",
    "# Concat\n",
    "X_validation = pd.concat(\n",
    "    objs = [\n",
    "        X_validation_scaled\n",
    "        ,X_validation_encoded\n",
    "        ,X_validation[BOOLEAN_FEATURES].reset_index(drop = True, inplace = False)\n",
    "    ]\n",
    "    ,axis = 1\n",
    "    ,sort = False\n",
    ")"
   ]
  },
  {
   "cell_type": "code",
   "execution_count": 632,
   "metadata": {},
   "outputs": [
    {
     "data": {
      "text/plain": [
       "array([[   1,  131],\n",
       "       [   3, 6809]], dtype=int64)"
      ]
     },
     "execution_count": 632,
     "metadata": {},
     "output_type": "execute_result"
    }
   ],
   "source": [
    "confusion_matrix(\n",
    "    y_validation\n",
    "    ,RF_default.predict(X_validation)\n",
    "    ,labels = [True, False]\n",
    ")"
   ]
  },
  {
   "cell_type": "code",
   "execution_count": 645,
   "metadata": {},
   "outputs": [
    {
     "data": {
      "image/png": "[encoded data removed]",
      "text/plain": [
       "<Figure size 432x288 with 1 Axes>"
      ]
     },
     "metadata": {
      "needs_background": "light"
     },
     "output_type": "display_data"
    }
   ],
   "source": [
    "RF_default_precision, RF_default_recall, _ = precision_recall_curve(\n",
    "    y_validation\n",
    "    ,RF_default.predict_proba(X_validation)[:,1]\n",
    ")\n",
    "\n",
    "plt.plot(RF_default_recall, RF_default_precision, marker='.', label='RF_default')\n",
    "plt.xlabel('Recall')\n",
    "plt.ylabel('Precision')\n",
    "plt.legend()\n",
    "plt.show()"
   ]
  }
 ],
 "metadata": {
  "kernelspec": {
   "display_name": "Python 3",
   "language": "python",
   "name": "python3"
  },
  "language_info": {
   "codemirror_mode": {
    "name": "ipython",
    "version": 3
   },
   "file_extension": ".py",
   "mimetype": "text/x-python",
   "name": "python",
   "nbconvert_exporter": "python",
   "pygments_lexer": "ipython3",
   "version": "3.7.4"
  }
 },
 "nbformat": 4,
 "nbformat_minor": 2
}
